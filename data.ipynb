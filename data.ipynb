{
 "cells": [
  {
   "cell_type": "markdown",
   "metadata": {},
   "source": [
    "# Import packages"
   ]
  },
  {
   "cell_type": "code",
   "execution_count": 105,
   "metadata": {
    "collapsed": true
   },
   "outputs": [],
   "source": [
    "import os\n",
    "import pandas as pd\n",
    "import numpy as np\n",
    "import matplotlib.pyplot as plt"
   ]
  },
  {
   "cell_type": "markdown",
   "metadata": {},
   "source": [
    "# Load data"
   ]
  },
  {
   "cell_type": "code",
   "execution_count": 106,
   "metadata": {},
   "outputs": [
    {
     "name": "stdout",
     "output_type": "stream",
     "text": [
      "./dataset.xlsx\n",
      "        Date    KOSPI  KOSDAQ  Avgerage_Temperature  Lowest_Temperature  \\\n",
      "0 2016-01-04  1918.76  677.79                  10.4                 7.6   \n",
      "1 2016-01-05  1930.53  684.07                   5.3                 3.2   \n",
      "2 2016-01-06  1925.43  687.27                   4.8                 1.8   \n",
      "3 2016-01-07  1904.33  679.66                   3.9                 1.1   \n",
      "4 2016-01-08  1917.62  682.56                   2.5                -0.5   \n",
      "\n",
      "   Highest_temperature  Precipitation  Avgerage_Wind_Speed  \\\n",
      "0                 15.2            0.0                  2.7   \n",
      "1                  8.1            0.2                  3.1   \n",
      "2                  9.9            0.0                  2.9   \n",
      "3                  8.5            0.0                  2.7   \n",
      "4                  6.9            0.0                  2.9   \n",
      "\n",
      "   Average_Relative_humidity  Daylight_Hours  Cloud_Cover  Duration_of_Fog  \\\n",
      "0                       46.3             8.6          0.8              0.0   \n",
      "1                       40.9             0.0          7.0              0.0   \n",
      "2                       34.5             7.7          5.6              0.0   \n",
      "3                       47.3             8.6          0.9              0.0   \n",
      "4                       44.1             9.1          0.8              0.0   \n",
      "\n",
      "   Revenue  Fitness  Sports_Center       Gym      Diet     Body  \\\n",
      "0  1200000  1.70885        0.66053  15.25185  69.49203  1.70459   \n",
      "1   900000  1.68328        0.54120  11.19918  58.96616  1.35089   \n",
      "2   950000  1.99437        0.45597  10.07841  62.38387  1.30827   \n",
      "3   880000  1.65771        0.47728   8.82553  63.78164  2.01142   \n",
      "4   450000  1.35941        0.41336   7.26583  57.66641  1.44464   \n",
      "\n",
      "   Busan_Sports_Center  Busan_Gym  \n",
      "0             74.50980   54.90196  \n",
      "1             20.91503   43.13725  \n",
      "2             25.49019   39.86928  \n",
      "3             22.87581   42.48366  \n",
      "4             16.99346   24.83660  \n",
      "Index([u'Date', u'KOSPI', u'KOSDAQ', u'Avgerage_Temperature',\n",
      "       u'Lowest_Temperature', u'Highest_temperature', u'Precipitation',\n",
      "       u'Avgerage_Wind_Speed', u'Average_Relative_humidity', u'Daylight_Hours',\n",
      "       u'Cloud_Cover', u'Duration_of_Fog', u'Revenue', u'Fitness',\n",
      "       u'Sports_Center', u'Gym', u'Diet', u'Body', u'Busan_Sports_Center',\n",
      "       u'Busan_Gym'],\n",
      "      dtype='object')\n"
     ]
    }
   ],
   "source": [
    "data_file_name = 'dataset.xlsx'\n",
    "data_dir_path = '.'\n",
    "data_file_path = os.path.join(data_dir_path, data_file_name)\n",
    "print(data_file_path)\n",
    "# Load 'data' spreadsheet\n",
    "df = pd.read_excel(open(data_file_path, 'rb'), sheetname='data', header=1)\n",
    "\n",
    "print(df.head())\n",
    "print(df.columns)"
   ]
  },
  {
   "cell_type": "markdown",
   "metadata": {},
   "source": [
    "# Preprocessing - fill in missing values"
   ]
  },
  {
   "cell_type": "code",
   "execution_count": 107,
   "metadata": {
    "collapsed": true
   },
   "outputs": [],
   "source": [
    "def fill_in_missing_data(data, window_size):\n",
    "    num_of_data = len(data)\n",
    "    indices = np.where(np.isnan(data))[0]\n",
    "\n",
    "    for i in indices:\n",
    "        values = []\n",
    "        distances = []\n",
    "        for j in range(1,window_size+1):\n",
    "            if i-j >= 0 and not np.isnan(data[i-j]):\n",
    "                values.append(data[i-j])\n",
    "                distances.append(j)\n",
    "            if i+j < num_of_data and not np.isnan(data[i+j]):\n",
    "                values.append(data[i+j])\n",
    "                distances.append(j)\n",
    "\n",
    "        values = np.array(values)\n",
    "        distances = np.array(distances)\n",
    "        inverse_distances = 1.0 / distances\n",
    "        weights = inverse_distances / np.sum(inverse_distances)\n",
    "        filling_value = np.sum(np.multiply(values, weights))\n",
    "        data[i] = filling_value\n",
    "    return data\n",
    "\n",
    "def test_fill_in_missing_data(data, window_size):\n",
    "    modified_data = fill_in_missing_data(np.copy(data), 3)\n",
    "    plt.plot(modified_data)\n",
    "    plt.show()\n",
    "#     data[np.where(np.isnan(data))] = 0\n",
    "#     plt.plot(data)\n",
    "#     plt.ylim(1800, 2100)\n",
    "#     plt.show()\n",
    "    "
   ]
  },
  {
   "cell_type": "code",
   "execution_count": 108,
   "metadata": {
    "collapsed": true
   },
   "outputs": [],
   "source": [
    "kospi = df['KOSPI']\n",
    "kosdaq = df['KOSDAQ']"
   ]
  },
  {
   "cell_type": "code",
   "execution_count": 109,
   "metadata": {},
   "outputs": [
    {
     "data": {
      "image/png": "[encoded data removed]",
      "text/plain": [
       "<matplotlib.figure.Figure at 0x106b3e810>"
      ]
     },
     "metadata": {},
     "output_type": "display_data"
    }
   ],
   "source": [
    "test_fill_in_missing_data(np.copy(kospi),3)"
   ]
  },
  {
   "cell_type": "code",
   "execution_count": 110,
   "metadata": {},
   "outputs": [],
   "source": [
    "# fill in missing values\n",
    "df['KOSPI'] = fill_in_missing_data(np.copy(kospi), 3)\n",
    "df['KOSDAQ'] = fill_in_missing_data(np.copy(kosdaq), 3)"
   ]
  },
  {
   "cell_type": "markdown",
   "metadata": {},
   "source": [
    "# LSTM"
   ]
  },
  {
   "cell_type": "code",
   "execution_count": 111,
   "metadata": {},
   "outputs": [
    {
     "data": {
      "text/html": [
       "<div>\n",
       "<table border=\"1\" class=\"dataframe\">\n",
       "  <thead>\n",
       "    <tr style=\"text-align: right;\">\n",
       "      <th></th>\n",
       "      <th>Date</th>\n",
       "      <th>KOSPI</th>\n",
       "      <th>KOSDAQ</th>\n",
       "      <th>Avgerage_Temperature</th>\n",
       "      <th>Lowest_Temperature</th>\n",
       "      <th>Highest_temperature</th>\n",
       "      <th>Precipitation</th>\n",
       "      <th>Avgerage_Wind_Speed</th>\n",
       "      <th>Average_Relative_humidity</th>\n",
       "      <th>Daylight_Hours</th>\n",
       "      <th>Cloud_Cover</th>\n",
       "      <th>Duration_of_Fog</th>\n",
       "      <th>Revenue</th>\n",
       "      <th>Fitness</th>\n",
       "      <th>Sports_Center</th>\n",
       "      <th>Gym</th>\n",
       "      <th>Diet</th>\n",
       "      <th>Body</th>\n",
       "      <th>Busan_Sports_Center</th>\n",
       "      <th>Busan_Gym</th>\n",
       "    </tr>\n",
       "  </thead>\n",
       "  <tbody>\n",
       "    <tr>\n",
       "      <th>0</th>\n",
       "      <td>2016-01-04</td>\n",
       "      <td>1918.76</td>\n",
       "      <td>677.79</td>\n",
       "      <td>10.4</td>\n",
       "      <td>7.6</td>\n",
       "      <td>15.2</td>\n",
       "      <td>0.0</td>\n",
       "      <td>2.7</td>\n",
       "      <td>46.3</td>\n",
       "      <td>8.6</td>\n",
       "      <td>0.8</td>\n",
       "      <td>0.0</td>\n",
       "      <td>1200000</td>\n",
       "      <td>1.70885</td>\n",
       "      <td>0.66053</td>\n",
       "      <td>15.25185</td>\n",
       "      <td>69.49203</td>\n",
       "      <td>1.70459</td>\n",
       "      <td>74.50980</td>\n",
       "      <td>54.90196</td>\n",
       "    </tr>\n",
       "    <tr>\n",
       "      <th>1</th>\n",
       "      <td>2016-01-05</td>\n",
       "      <td>1930.53</td>\n",
       "      <td>684.07</td>\n",
       "      <td>5.3</td>\n",
       "      <td>3.2</td>\n",
       "      <td>8.1</td>\n",
       "      <td>0.2</td>\n",
       "      <td>3.1</td>\n",
       "      <td>40.9</td>\n",
       "      <td>0.0</td>\n",
       "      <td>7.0</td>\n",
       "      <td>0.0</td>\n",
       "      <td>900000</td>\n",
       "      <td>1.68328</td>\n",
       "      <td>0.54120</td>\n",
       "      <td>11.19918</td>\n",
       "      <td>58.96616</td>\n",
       "      <td>1.35089</td>\n",
       "      <td>20.91503</td>\n",
       "      <td>43.13725</td>\n",
       "    </tr>\n",
       "    <tr>\n",
       "      <th>2</th>\n",
       "      <td>2016-01-06</td>\n",
       "      <td>1925.43</td>\n",
       "      <td>687.27</td>\n",
       "      <td>4.8</td>\n",
       "      <td>1.8</td>\n",
       "      <td>9.9</td>\n",
       "      <td>0.0</td>\n",
       "      <td>2.9</td>\n",
       "      <td>34.5</td>\n",
       "      <td>7.7</td>\n",
       "      <td>5.6</td>\n",
       "      <td>0.0</td>\n",
       "      <td>950000</td>\n",
       "      <td>1.99437</td>\n",
       "      <td>0.45597</td>\n",
       "      <td>10.07841</td>\n",
       "      <td>62.38387</td>\n",
       "      <td>1.30827</td>\n",
       "      <td>25.49019</td>\n",
       "      <td>39.86928</td>\n",
       "    </tr>\n",
       "    <tr>\n",
       "      <th>3</th>\n",
       "      <td>2016-01-07</td>\n",
       "      <td>1904.33</td>\n",
       "      <td>679.66</td>\n",
       "      <td>3.9</td>\n",
       "      <td>1.1</td>\n",
       "      <td>8.5</td>\n",
       "      <td>0.0</td>\n",
       "      <td>2.7</td>\n",
       "      <td>47.3</td>\n",
       "      <td>8.6</td>\n",
       "      <td>0.9</td>\n",
       "      <td>0.0</td>\n",
       "      <td>880000</td>\n",
       "      <td>1.65771</td>\n",
       "      <td>0.47728</td>\n",
       "      <td>8.82553</td>\n",
       "      <td>63.78164</td>\n",
       "      <td>2.01142</td>\n",
       "      <td>22.87581</td>\n",
       "      <td>42.48366</td>\n",
       "    </tr>\n",
       "    <tr>\n",
       "      <th>4</th>\n",
       "      <td>2016-01-08</td>\n",
       "      <td>1917.62</td>\n",
       "      <td>682.56</td>\n",
       "      <td>2.5</td>\n",
       "      <td>-0.5</td>\n",
       "      <td>6.9</td>\n",
       "      <td>0.0</td>\n",
       "      <td>2.9</td>\n",
       "      <td>44.1</td>\n",
       "      <td>9.1</td>\n",
       "      <td>0.8</td>\n",
       "      <td>0.0</td>\n",
       "      <td>450000</td>\n",
       "      <td>1.35941</td>\n",
       "      <td>0.41336</td>\n",
       "      <td>7.26583</td>\n",
       "      <td>57.66641</td>\n",
       "      <td>1.44464</td>\n",
       "      <td>16.99346</td>\n",
       "      <td>24.83660</td>\n",
       "    </tr>\n",
       "  </tbody>\n",
       "</table>\n",
       "</div>"
      ],
      "text/plain": [
       "        Date    KOSPI  KOSDAQ  Avgerage_Temperature  Lowest_Temperature  \\\n",
       "0 2016-01-04  1918.76  677.79                  10.4                 7.6   \n",
       "1 2016-01-05  1930.53  684.07                   5.3                 3.2   \n",
       "2 2016-01-06  1925.43  687.27                   4.8                 1.8   \n",
       "3 2016-01-07  1904.33  679.66                   3.9                 1.1   \n",
       "4 2016-01-08  1917.62  682.56                   2.5                -0.5   \n",
       "\n",
       "   Highest_temperature  Precipitation  Avgerage_Wind_Speed  \\\n",
       "0                 15.2            0.0                  2.7   \n",
       "1                  8.1            0.2                  3.1   \n",
       "2                  9.9            0.0                  2.9   \n",
       "3                  8.5            0.0                  2.7   \n",
       "4                  6.9            0.0                  2.9   \n",
       "\n",
       "   Average_Relative_humidity  Daylight_Hours  Cloud_Cover  Duration_of_Fog  \\\n",
       "0                       46.3             8.6          0.8              0.0   \n",
       "1                       40.9             0.0          7.0              0.0   \n",
       "2                       34.5             7.7          5.6              0.0   \n",
       "3                       47.3             8.6          0.9              0.0   \n",
       "4                       44.1             9.1          0.8              0.0   \n",
       "\n",
       "   Revenue  Fitness  Sports_Center       Gym      Diet     Body  \\\n",
       "0  1200000  1.70885        0.66053  15.25185  69.49203  1.70459   \n",
       "1   900000  1.68328        0.54120  11.19918  58.96616  1.35089   \n",
       "2   950000  1.99437        0.45597  10.07841  62.38387  1.30827   \n",
       "3   880000  1.65771        0.47728   8.82553  63.78164  2.01142   \n",
       "4   450000  1.35941        0.41336   7.26583  57.66641  1.44464   \n",
       "\n",
       "   Busan_Sports_Center  Busan_Gym  \n",
       "0             74.50980   54.90196  \n",
       "1             20.91503   43.13725  \n",
       "2             25.49019   39.86928  \n",
       "3             22.87581   42.48366  \n",
       "4             16.99346   24.83660  "
      ]
     },
     "execution_count": 111,
     "metadata": {},
     "output_type": "execute_result"
    }
   ],
   "source": [
    "df.head()"
   ]
  }
 ],
 "metadata": {
  "kernelspec": {
   "display_name": "Python 2",
   "language": "python",
   "name": "python2"
  },
  "language_info": {
   "codemirror_mode": {
    "name": "ipython",
    "version": 2
   },
   "file_extension": ".py",
   "mimetype": "text/x-python",
   "name": "python",
   "nbconvert_exporter": "python",
   "pygments_lexer": "ipython2",
   "version": "2.7.13"
  }
 },
 "nbformat": 4,
 "nbformat_minor": 2
}
