{
 "cells": [
  {
   "cell_type": "markdown",
   "metadata": {},
   "source": [
    "# Import packages"
   ]
  },
  {
   "cell_type": "code",
   "execution_count": 29,
   "metadata": {},
   "outputs": [],
   "source": [
    "import os\n",
    "import pandas as pd\n",
    "import numpy as np\n",
    "import matplotlib.pyplot as plt\n",
    "from prettytable import PrettyTable"
   ]
  },
  {
   "cell_type": "markdown",
   "metadata": {},
   "source": [
    "# Load data"
   ]
  },
  {
   "cell_type": "code",
   "execution_count": 30,
   "metadata": {},
   "outputs": [],
   "source": [
    "data_file_name = 'dataset.xlsx'\n",
    "data_dir_path = '.'\n",
    "data_file_path = os.path.join(data_dir_path, data_file_name)\n",
    "\n",
    "# Load 'data' spreadsheet\n",
    "df = pd.read_excel(open(data_file_path, 'rb'), sheetname='data', header=1)\n",
    "\n",
    "# print(df.head())\n",
    "# print(df.columns)"
   ]
  },
  {
   "cell_type": "markdown",
   "metadata": {},
   "source": [
    "# 1) Preprocessing - fill in missing values"
   ]
  },
  {
   "cell_type": "markdown",
   "metadata": {},
   "source": [
    "# Defin a function"
   ]
  },
  {
   "cell_type": "code",
   "execution_count": 31,
   "metadata": {},
   "outputs": [],
   "source": [
    "def fill_in_missing_data(data, window_size):\n",
    "    num_of_data = len(data)\n",
    "    indices = np.where(np.isnan(data))[0]\n",
    "\n",
    "    for i in indices:\n",
    "        values = []\n",
    "        distances = []\n",
    "        for j in range(1,window_size+1):\n",
    "            if i-j >= 0 and not np.isnan(data[i-j]):\n",
    "                values.append(data[i-j])\n",
    "                distances.append(j)\n",
    "            if i+j < num_of_data and not np.isnan(data[i+j]):\n",
    "                values.append(data[i+j])\n",
    "                distances.append(j)\n",
    "\n",
    "        values = np.array(values)\n",
    "        distances = np.array(distances)\n",
    "        inverse_distances = 1.0 / distances\n",
    "        weights = inverse_distances / np.sum(inverse_distances)\n",
    "        filling_value = np.sum(np.multiply(values, weights))\n",
    "        data[i] = filling_value\n",
    "    return data\n",
    "\n",
    "def test_fill_in_missing_data(data, window_size):\n",
    "    modified_data = fill_in_missing_data(np.copy(data), 3)\n",
    "    plt.plot(modified_data)\n",
    "    plt.show()\n",
    "#     data[np.where(np.isnan(data))] = 0\n",
    "#     plt.plot(data)\n",
    "#     plt.ylim(1800, 2100)\n",
    "#     plt.show()\n",
    "    "
   ]
  },
  {
   "cell_type": "markdown",
   "metadata": {},
   "source": [
    "# Fill in missing values - Kospi & Kosdaq"
   ]
  },
  {
   "cell_type": "code",
   "execution_count": 32,
   "metadata": {},
   "outputs": [],
   "source": [
    "kospi = df['KOSPI']\n",
    "kosdaq = df['KOSDAQ']"
   ]
  },
  {
   "cell_type": "code",
   "execution_count": 33,
   "metadata": {},
   "outputs": [
    {
     "data": {
      "image/png": "[encoded data removed]",
      "text/plain": [
       "<matplotlib.figure.Figure at 0x107059fd0>"
      ]
     },
     "metadata": {},
     "output_type": "display_data"
    }
   ],
   "source": [
    "test_fill_in_missing_data(np.copy(kospi),3)"
   ]
  },
  {
   "cell_type": "code",
   "execution_count": 34,
   "metadata": {},
   "outputs": [],
   "source": [
    "# fill in missing values\n",
    "window_size = 3\n",
    "df['KOSPI'] = fill_in_missing_data(np.copy(kospi), window_size)\n",
    "df['KOSDAQ'] = fill_in_missing_data(np.copy(kosdaq), window_size)"
   ]
  },
  {
   "cell_type": "markdown",
   "metadata": {},
   "source": [
    "# 2) Preprocessing - add 'season' feature based on 'date'"
   ]
  },
  {
   "cell_type": "code",
   "execution_count": 35,
   "metadata": {},
   "outputs": [],
   "source": [
    "season_as_num = df['Date'].apply(lambda dt: (dt.month%12 + 3)//3)\n",
    "df['Season'] = np.where(season_as_num == 1, 'winter', \n",
    "                            (np.where(season_as_num == 2, 'spring',\n",
    "                                     np.where(season_as_num == 3, 'summer', 'fall'))))"
   ]
  },
  {
   "cell_type": "markdown",
   "metadata": {},
   "source": [
    "# 3) Preprocessing - add 'Average_Temperature_Normalized'"
   ]
  },
  {
   "cell_type": "code",
   "execution_count": 36,
   "metadata": {},
   "outputs": [],
   "source": [
    "df['Average_Temperature_Normalized'] = np.zeros_like(df['Average_Temperature'])"
   ]
  },
  {
   "cell_type": "code",
   "execution_count": 37,
   "metadata": {},
   "outputs": [
    {
     "name": "stderr",
     "output_type": "stream",
     "text": [
      "/Library/Frameworks/Python.framework/Versions/2.7/lib/python2.7/site-packages/ipykernel/__main__.py:24: SettingWithCopyWarning: \n",
      "A value is trying to be set on a copy of a slice from a DataFrame\n",
      "\n",
      "See the caveats in the documentation: http://pandas.pydata.org/pandas-docs/stable/indexing.html#indexing-view-versus-copy\n",
      "/Library/Frameworks/Python.framework/Versions/2.7/lib/python2.7/site-packages/ipykernel/__main__.py:17: SettingWithCopyWarning: \n",
      "A value is trying to be set on a copy of a slice from a DataFrame\n",
      "\n",
      "See the caveats in the documentation: http://pandas.pydata.org/pandas-docs/stable/indexing.html#indexing-view-versus-copy\n"
     ]
    }
   ],
   "source": [
    "month = 0\n",
    "season = None\n",
    "indices = []\n",
    "avg_temperatures = []\n",
    "for i, date in enumerate(df['Date']):\n",
    "    if month == 0:\n",
    "        month = date.month\n",
    "        season = df['Season'][i]\n",
    "    indices.append(i)\n",
    "    avg_temperatures.append(df['Average_Temperature'][i])\n",
    "    if i == len(df['Date'])-1:\n",
    "        mean_avg_temperature = np.mean(avg_temperatures)\n",
    "        sd_avg_temperature = np.std(avg_temperatures)\n",
    "        if season == 'spring' or season == 'summer':\n",
    "            df['Average_Temperature_Normalized'][indices] = (mean_avg_temperature - df['Average_Temperature'][indices]) / sd_avg_temperature\n",
    "        else:\n",
    "            df['Average_Temperature_Normalized'][indices] = (df['Average_Temperature'][indices] - mean_avg_temperature) / sd_avg_temperature\n",
    "    elif month != date.month:\n",
    "        mean_avg_temperature = np.mean(avg_temperatures[:-1])\n",
    "        sd_avg_temperature = np.std(avg_temperatures[:-1])\n",
    "        if season == 'spring' or season == 'summer':\n",
    "            df['Average_Temperature_Normalized'][indices] = (mean_avg_temperature - df['Average_Temperature'][indices]) / sd_avg_temperature\n",
    "        else:\n",
    "            df['Average_Temperature_Normalized'][indices] = (df['Average_Temperature'][indices] - mean_avg_temperature) / sd_avg_temperature\n",
    "        month = date.month\n",
    "        indices = [i]\n",
    "        avg_temperatures = [df['Average_Temperature'][i]]\n",
    "    "
   ]
  },
  {
   "cell_type": "code",
   "execution_count": 38,
   "metadata": {},
   "outputs": [
    {
     "data": {
      "image/png": "[encoded data removed]",
      "text/plain": [
       "<matplotlib.figure.Figure at 0x106f9e810>"
      ]
     },
     "metadata": {},
     "output_type": "display_data"
    }
   ],
   "source": [
    "plt.hist(df['Average_Temperature_Normalized'])\n",
    "plt.show()"
   ]
  },
  {
   "cell_type": "markdown",
   "metadata": {},
   "source": [
    "# 4) Preprocessing - classify 'Revenue' for classification"
   ]
  },
  {
   "cell_type": "markdown",
   "metadata": {},
   "source": [
    "# Add 'Revenue_Normalized' variable to see how 'Revenue' has changed"
   ]
  },
  {
   "cell_type": "code",
   "execution_count": 39,
   "metadata": {},
   "outputs": [],
   "source": [
    "df['Revenue_Normalized'] = np.zeros_like(df['Revenue'])"
   ]
  },
  {
   "cell_type": "code",
   "execution_count": 40,
   "metadata": {},
   "outputs": [
    {
     "name": "stderr",
     "output_type": "stream",
     "text": [
      "/Library/Frameworks/Python.framework/Versions/2.7/lib/python2.7/site-packages/ipykernel/__main__.py:18: SettingWithCopyWarning: \n",
      "A value is trying to be set on a copy of a slice from a DataFrame\n",
      "\n",
      "See the caveats in the documentation: http://pandas.pydata.org/pandas-docs/stable/indexing.html#indexing-view-versus-copy\n",
      "/Library/Frameworks/Python.framework/Versions/2.7/lib/python2.7/site-packages/ipykernel/__main__.py:14: SettingWithCopyWarning: \n",
      "A value is trying to be set on a copy of a slice from a DataFrame\n",
      "\n",
      "See the caveats in the documentation: http://pandas.pydata.org/pandas-docs/stable/indexing.html#indexing-view-versus-copy\n"
     ]
    }
   ],
   "source": [
    "month = 0\n",
    "indices = []\n",
    "revenues = []\n",
    "mean_revenues = []\n",
    "sd_revenues = []\n",
    "for i, date in enumerate(df['Date']):\n",
    "    if month == 0:\n",
    "        month = date.month\n",
    "    indices.append(i)\n",
    "    revenues.append(df['Revenue'][i])\n",
    "    if i == len(df['Date'])-1:\n",
    "        mean_revenue = np.mean(revenues)\n",
    "        sd_revenue = np.std(revenues)\n",
    "        df['Revenue_Normalized'][indices] = (df['Revenue'][indices] - mean_revenue) / sd_revenue\n",
    "    elif month != date.month:\n",
    "        mean_revenue = np.mean(revenues[:-1])\n",
    "        sd_revenue = np.std(revenues[:-1])\n",
    "        df['Revenue_Normalized'][indices] = (df['Revenue'][indices] - mean_revenue) / sd_revenue\n",
    "        month = date.month\n",
    "        indices = [i]\n",
    "        revenues = [df['Revenue'][i]]\n",
    "        mean_revenues.append(mean_revenue)\n",
    "        sd_revenues.append(sd_revenue)"
   ]
  },
  {
   "cell_type": "code",
   "execution_count": 41,
   "metadata": {},
   "outputs": [
    {
     "data": {
      "image/png": "[encoded data removed]",
      "text/plain": [
       "<matplotlib.figure.Figure at 0x107033f50>"
      ]
     },
     "metadata": {},
     "output_type": "display_data"
    }
   ],
   "source": [
    "plt.hist(df['Revenue_Normalized'])\n",
    "plt.show()"
   ]
  },
  {
   "cell_type": "markdown",
   "metadata": {},
   "source": [
    "# Classify 'Revenue'"
   ]
  },
  {
   "cell_type": "code",
   "execution_count": 42,
   "metadata": {},
   "outputs": [],
   "source": [
    "rate = df['Revenue_Normalized']\n",
    "df['Rate_Class'] = np.where(rate > 0.7, 'very high', \n",
    "                            (np.where(rate > 0.3, 'high',\n",
    "                                     np.where(rate > -0.3, 'moderate',\n",
    "                                             np.where(rate > -0.7, 'low', 'very low')))))"
   ]
  },
  {
   "cell_type": "code",
   "execution_count": 43,
   "metadata": {},
   "outputs": [
    {
     "data": {
      "image/png": "[encoded data removed]",
      "text/plain": [
       "<matplotlib.figure.Figure at 0x106eae950>"
      ]
     },
     "metadata": {},
     "output_type": "display_data"
    }
   ],
   "source": [
    "# Show the distribution of 'Rate Class'\n",
    "df['Rate_Class'].value_counts().plot(kind='bar')\n",
    "plt.show()"
   ]
  },
  {
   "cell_type": "code",
   "execution_count": 44,
   "metadata": {},
   "outputs": [
    {
     "data": {
      "image/png": "[encoded data removed]",
      "text/plain": [
       "<matplotlib.figure.Figure at 0x107059f90>"
      ]
     },
     "metadata": {},
     "output_type": "display_data"
    }
   ],
   "source": [
    "plt.plot(rate.tolist())\n",
    "plt.show()"
   ]
  },
  {
   "cell_type": "markdown",
   "metadata": {},
   "source": [
    "# 5) Preprocessing - Normalization"
   ]
  },
  {
   "cell_type": "markdown",
   "metadata": {},
   "source": [
    "# Define a function"
   ]
  },
  {
   "cell_type": "code",
   "execution_count": 45,
   "metadata": {},
   "outputs": [],
   "source": [
    "def normalize(data):\n",
    "    ''' Min Max Normalization\n",
    "    Parameters\n",
    "    ----------\n",
    "    data : numpy.ndarray\n",
    "        input data to be normalized\n",
    "        shape: [Batch size, dimension]\n",
    "    Returns\n",
    "    ----------\n",
    "    data : numpy.ndarry\n",
    "        normalized data\n",
    "        shape: [Batch size, dimension]\n",
    "    References\n",
    "    ----------\n",
    "    .. [1] http://sebastianraschka.com/Articles/2014_about_feature_scaling.html\n",
    "    '''\n",
    "    numerator = data - np.mean(data)\n",
    "    denominator = np.std(data)\n",
    "    # noise term prevents the zero division\n",
    "    return numerator / (denominator + 1e-7)"
   ]
  },
  {
   "cell_type": "markdown",
   "metadata": {},
   "source": [
    "# All Variables except 'Date', 'Rate_Class', 'Season' and normalized variables"
   ]
  },
  {
   "cell_type": "code",
   "execution_count": 46,
   "metadata": {},
   "outputs": [
    {
     "data": {
      "text/plain": [
       "Index([                          u'Date',                          u'KOSPI',\n",
       "                               u'KOSDAQ',            u'Average_Temperature',\n",
       "                   u'Lowest_Temperature',            u'Highest_temperature',\n",
       "                        u'Precipitation',             u'Average_Wind_Speed',\n",
       "            u'Average_Relative_humidity',                 u'Daylight_Hours',\n",
       "                          u'Cloud_Cover',                u'Duration_of_Fog',\n",
       "                              u'Revenue',                        u'Fitness',\n",
       "                        u'Sports_Center',                            u'Gym',\n",
       "                                 u'Diet',                           u'Body',\n",
       "                  u'Busan_Sports_Center',                      u'Busan_Gym',\n",
       "                               u'Season', u'Average_Temperature_Normalized',\n",
       "                   u'Revenue_Normalized',                     u'Rate_Class'],\n",
       "      dtype='object')"
      ]
     },
     "execution_count": 46,
     "metadata": {},
     "output_type": "execute_result"
    }
   ],
   "source": [
    "df.columns"
   ]
  },
  {
   "cell_type": "code",
   "execution_count": 47,
   "metadata": {},
   "outputs": [
    {
     "name": "stdout",
     "output_type": "stream",
     "text": [
      "[u'KOSPI', u'KOSDAQ', u'Average_Temperature', u'Lowest_Temperature', u'Highest_temperature', u'Precipitation', u'Average_Wind_Speed', u'Average_Relative_humidity', u'Daylight_Hours', u'Cloud_Cover', u'Duration_of_Fog', u'Revenue', u'Fitness', u'Sports_Center', u'Gym', u'Diet', u'Body', u'Busan_Sports_Center', u'Busan_Gym']\n"
     ]
    }
   ],
   "source": [
    "columns = [x for x in df.columns if x not in ['Date', 'Rate_Class', 'Season', 'Average_Temperature_Normalized', 'Revenue_Normalized']]\n",
    "print(columns)\n",
    "df_scaled = df.copy()\n",
    "df_scaled[columns] = df_scaled[columns].apply(normalize, axis=0)\n",
    "df_scaled['Date'] = df['Date']\n",
    "df_scaled['Rate_Class'] = df['Rate_Class']"
   ]
  },
  {
   "cell_type": "markdown",
   "metadata": {},
   "source": [
    "# Final dataset - Done with preprocessing"
   ]
  },
  {
   "cell_type": "code",
   "execution_count": 48,
   "metadata": {},
   "outputs": [
    {
     "name": "stdout",
     "output_type": "stream",
     "text": [
      "height has been deprecated.\n",
      "\n"
     ]
    },
    {
     "data": {
      "text/html": [
       "<div>\n",
       "<table border=\"1\" class=\"dataframe\">\n",
       "  <thead>\n",
       "    <tr style=\"text-align: right;\">\n",
       "      <th></th>\n",
       "      <th>Date</th>\n",
       "      <th>KOSPI</th>\n",
       "      <th>KOSDAQ</th>\n",
       "      <th>Average_Temperature</th>\n",
       "      <th>Lowest_Temperature</th>\n",
       "      <th>Highest_temperature</th>\n",
       "      <th>Precipitation</th>\n",
       "      <th>Average_Wind_Speed</th>\n",
       "      <th>Average_Relative_humidity</th>\n",
       "      <th>Daylight_Hours</th>\n",
       "      <th>Cloud_Cover</th>\n",
       "      <th>Duration_of_Fog</th>\n",
       "      <th>Revenue</th>\n",
       "      <th>Fitness</th>\n",
       "      <th>Sports_Center</th>\n",
       "      <th>Gym</th>\n",
       "      <th>Diet</th>\n",
       "      <th>Body</th>\n",
       "      <th>Busan_Sports_Center</th>\n",
       "      <th>Busan_Gym</th>\n",
       "      <th>Season</th>\n",
       "      <th>Average_Temperature_Normalized</th>\n",
       "      <th>Revenue_Normalized</th>\n",
       "      <th>Rate_Class</th>\n",
       "    </tr>\n",
       "  </thead>\n",
       "  <tbody>\n",
       "  </tbody>\n",
       "</table>\n",
       "</div>"
      ],
      "text/plain": [
       "Empty DataFrame\n",
       "Columns: [Date, KOSPI, KOSDAQ, Average_Temperature, Lowest_Temperature, Highest_temperature, Precipitation, Average_Wind_Speed, Average_Relative_humidity, Daylight_Hours, Cloud_Cover, Duration_of_Fog, Revenue, Fitness, Sports_Center, Gym, Diet, Body, Busan_Sports_Center, Busan_Gym, Season, Average_Temperature_Normalized, Revenue_Normalized, Rate_Class]\n",
       "Index: []"
      ]
     },
     "execution_count": 48,
     "metadata": {},
     "output_type": "execute_result"
    }
   ],
   "source": [
    "# Debugging\n",
    "df_scaled.fillna(0, inplace=True)\n",
    "pd.set_option('display.height', 1000)\n",
    "pd.set_option('display.max_rows', 500)\n",
    "pd.set_option('display.max_columns', 500)\n",
    "pd.set_option('display.width', 1000)\n",
    "df_scaled.isnull().values.any()\n",
    "nan_rows = df_scaled[df_scaled.isnull().T.any().T]\n",
    "nan_rows"
   ]
  },
  {
   "cell_type": "code",
   "execution_count": 49,
   "metadata": {
    "scrolled": true
   },
   "outputs": [
    {
     "data": {
      "text/html": [
       "<div>\n",
       "<table border=\"1\" class=\"dataframe\">\n",
       "  <thead>\n",
       "    <tr style=\"text-align: right;\">\n",
       "      <th></th>\n",
       "      <th>Date</th>\n",
       "      <th>KOSPI</th>\n",
       "      <th>KOSDAQ</th>\n",
       "      <th>Average_Temperature</th>\n",
       "      <th>Lowest_Temperature</th>\n",
       "      <th>Highest_temperature</th>\n",
       "      <th>Precipitation</th>\n",
       "      <th>Average_Wind_Speed</th>\n",
       "      <th>Average_Relative_humidity</th>\n",
       "      <th>Daylight_Hours</th>\n",
       "      <th>Cloud_Cover</th>\n",
       "      <th>Duration_of_Fog</th>\n",
       "      <th>Revenue</th>\n",
       "      <th>Fitness</th>\n",
       "      <th>Sports_Center</th>\n",
       "      <th>Gym</th>\n",
       "      <th>Diet</th>\n",
       "      <th>Body</th>\n",
       "      <th>Busan_Sports_Center</th>\n",
       "      <th>Busan_Gym</th>\n",
       "      <th>Season</th>\n",
       "      <th>Average_Temperature_Normalized</th>\n",
       "      <th>Revenue_Normalized</th>\n",
       "      <th>Rate_Class</th>\n",
       "    </tr>\n",
       "  </thead>\n",
       "  <tbody>\n",
       "    <tr>\n",
       "      <th>0</th>\n",
       "      <td>2016-01-04</td>\n",
       "      <td>-1.151953</td>\n",
       "      <td>0.287214</td>\n",
       "      <td>-0.608890</td>\n",
       "      <td>-0.506602</td>\n",
       "      <td>-0.574746</td>\n",
       "      <td>-0.285686</td>\n",
       "      <td>-0.016943</td>\n",
       "      <td>0.342568</td>\n",
       "      <td>-0.836233</td>\n",
       "      <td>-1.467212</td>\n",
       "      <td>-0.122031</td>\n",
       "      <td>0.483480</td>\n",
       "      <td>0.734342</td>\n",
       "      <td>0.903352</td>\n",
       "      <td>3.990658</td>\n",
       "      <td>2.044022</td>\n",
       "      <td>1.343423</td>\n",
       "      <td>2.862245</td>\n",
       "      <td>4.261320</td>\n",
       "      <td>winter</td>\n",
       "      <td>2.591066</td>\n",
       "      <td>0.399221</td>\n",
       "      <td>high</td>\n",
       "    </tr>\n",
       "    <tr>\n",
       "      <th>1</th>\n",
       "      <td>2016-01-05</td>\n",
       "      <td>-1.092558</td>\n",
       "      <td>0.436134</td>\n",
       "      <td>-1.216455</td>\n",
       "      <td>-0.994161</td>\n",
       "      <td>-1.469336</td>\n",
       "      <td>-0.267387</td>\n",
       "      <td>0.016230</td>\n",
       "      <td>0.183380</td>\n",
       "      <td>-1.126611</td>\n",
       "      <td>0.202475</td>\n",
       "      <td>-0.122031</td>\n",
       "      <td>0.097475</td>\n",
       "      <td>0.660965</td>\n",
       "      <td>0.360811</td>\n",
       "      <td>2.008003</td>\n",
       "      <td>1.305837</td>\n",
       "      <td>0.905758</td>\n",
       "      <td>-0.567634</td>\n",
       "      <td>2.863554</td>\n",
       "      <td>winter</td>\n",
       "      <td>0.857798</td>\n",
       "      <td>-0.017328</td>\n",
       "      <td>moderate</td>\n",
       "    </tr>\n",
       "    <tr>\n",
       "      <th>2</th>\n",
       "      <td>2016-01-06</td>\n",
       "      <td>-1.118294</td>\n",
       "      <td>0.512017</td>\n",
       "      <td>-1.276020</td>\n",
       "      <td>-1.149293</td>\n",
       "      <td>-1.242539</td>\n",
       "      <td>-0.285686</td>\n",
       "      <td>-0.000357</td>\n",
       "      <td>-0.005287</td>\n",
       "      <td>-0.866621</td>\n",
       "      <td>-0.174551</td>\n",
       "      <td>-0.122031</td>\n",
       "      <td>0.161809</td>\n",
       "      <td>1.553687</td>\n",
       "      <td>-0.026693</td>\n",
       "      <td>1.459698</td>\n",
       "      <td>1.545523</td>\n",
       "      <td>0.853020</td>\n",
       "      <td>-0.274840</td>\n",
       "      <td>2.475287</td>\n",
       "      <td>winter</td>\n",
       "      <td>0.687870</td>\n",
       "      <td>0.052096</td>\n",
       "      <td>moderate</td>\n",
       "    </tr>\n",
       "    <tr>\n",
       "      <th>3</th>\n",
       "      <td>2016-01-07</td>\n",
       "      <td>-1.224771</td>\n",
       "      <td>0.331558</td>\n",
       "      <td>-1.383237</td>\n",
       "      <td>-1.226859</td>\n",
       "      <td>-1.418937</td>\n",
       "      <td>-0.285686</td>\n",
       "      <td>-0.016943</td>\n",
       "      <td>0.372047</td>\n",
       "      <td>-0.836233</td>\n",
       "      <td>-1.440282</td>\n",
       "      <td>-0.122031</td>\n",
       "      <td>0.071741</td>\n",
       "      <td>0.587588</td>\n",
       "      <td>0.070194</td>\n",
       "      <td>0.846762</td>\n",
       "      <td>1.643549</td>\n",
       "      <td>1.723091</td>\n",
       "      <td>-0.442151</td>\n",
       "      <td>2.785901</td>\n",
       "      <td>winter</td>\n",
       "      <td>0.381999</td>\n",
       "      <td>-0.045098</td>\n",
       "      <td>moderate</td>\n",
       "    </tr>\n",
       "    <tr>\n",
       "      <th>4</th>\n",
       "      <td>2016-01-08</td>\n",
       "      <td>-1.157706</td>\n",
       "      <td>0.400327</td>\n",
       "      <td>-1.550020</td>\n",
       "      <td>-1.404153</td>\n",
       "      <td>-1.620535</td>\n",
       "      <td>-0.285686</td>\n",
       "      <td>-0.000357</td>\n",
       "      <td>0.277713</td>\n",
       "      <td>-0.819350</td>\n",
       "      <td>-1.467212</td>\n",
       "      <td>-0.122031</td>\n",
       "      <td>-0.481532</td>\n",
       "      <td>-0.268431</td>\n",
       "      <td>-0.220422</td>\n",
       "      <td>0.083722</td>\n",
       "      <td>1.214685</td>\n",
       "      <td>1.021763</td>\n",
       "      <td>-0.818601</td>\n",
       "      <td>0.689253</td>\n",
       "      <td>winter</td>\n",
       "      <td>-0.093800</td>\n",
       "      <td>-0.642152</td>\n",
       "      <td>low</td>\n",
       "    </tr>\n",
       "  </tbody>\n",
       "</table>\n",
       "</div>"
      ],
      "text/plain": [
       "        Date     KOSPI    KOSDAQ  Average_Temperature  Lowest_Temperature  Highest_temperature  Precipitation  Average_Wind_Speed  Average_Relative_humidity  Daylight_Hours  Cloud_Cover  Duration_of_Fog   Revenue   Fitness  Sports_Center       Gym      Diet      Body  Busan_Sports_Center  Busan_Gym  Season  Average_Temperature_Normalized  Revenue_Normalized Rate_Class\n",
       "0 2016-01-04 -1.151953  0.287214            -0.608890           -0.506602            -0.574746      -0.285686           -0.016943                   0.342568       -0.836233    -1.467212        -0.122031  0.483480  0.734342       0.903352  3.990658  2.044022  1.343423             2.862245   4.261320  winter                        2.591066            0.399221       high\n",
       "1 2016-01-05 -1.092558  0.436134            -1.216455           -0.994161            -1.469336      -0.267387            0.016230                   0.183380       -1.126611     0.202475        -0.122031  0.097475  0.660965       0.360811  2.008003  1.305837  0.905758            -0.567634   2.863554  winter                        0.857798           -0.017328   moderate\n",
       "2 2016-01-06 -1.118294  0.512017            -1.276020           -1.149293            -1.242539      -0.285686           -0.000357                  -0.005287       -0.866621    -0.174551        -0.122031  0.161809  1.553687      -0.026693  1.459698  1.545523  0.853020            -0.274840   2.475287  winter                        0.687870            0.052096   moderate\n",
       "3 2016-01-07 -1.224771  0.331558            -1.383237           -1.226859            -1.418937      -0.285686           -0.016943                   0.372047       -0.836233    -1.440282        -0.122031  0.071741  0.587588       0.070194  0.846762  1.643549  1.723091            -0.442151   2.785901  winter                        0.381999           -0.045098   moderate\n",
       "4 2016-01-08 -1.157706  0.400327            -1.550020           -1.404153            -1.620535      -0.285686           -0.000357                   0.277713       -0.819350    -1.467212        -0.122031 -0.481532 -0.268431      -0.220422  0.083722  1.214685  1.021763            -0.818601   0.689253  winter                       -0.093800           -0.642152        low"
      ]
     },
     "execution_count": 49,
     "metadata": {},
     "output_type": "execute_result"
    }
   ],
   "source": [
    "df_scaled.head()"
   ]
  },
  {
   "cell_type": "markdown",
   "metadata": {},
   "source": [
    "# Save the data in excel format"
   ]
  },
  {
   "cell_type": "code",
   "execution_count": 50,
   "metadata": {},
   "outputs": [],
   "source": [
    "import openpyxl"
   ]
  },
  {
   "cell_type": "code",
   "execution_count": 51,
   "metadata": {},
   "outputs": [
    {
     "name": "stderr",
     "output_type": "stream",
     "text": [
      "/Library/Frameworks/Python.framework/Versions/2.7/lib/python2.7/site-packages/pandas/io/excel.py:784: DeprecationWarning: Call to deprecated function remove_sheet (Use wb.remove(worksheet) or del wb[sheetname]).\n",
      "  self.book.remove_sheet(self.book.worksheets[0])\n",
      "/Library/Frameworks/Python.framework/Versions/2.7/lib/python2.7/site-packages/simplejson/encoder.py:291: DeprecationWarning: Interpreting naive datetime as local 2018-07-31 09:53:16.001252. Please add timezone info to timestamps.\n",
      "  chunks = self.iterencode(o, _one_shot=True)\n"
     ]
    }
   ],
   "source": [
    "df_scaled.to_excel('df_scaled.xlsx', sheet_name='sheet1', index=False)"
   ]
  },
  {
   "cell_type": "markdown",
   "metadata": {},
   "source": [
    "# Regression Models"
   ]
  },
  {
   "cell_type": "markdown",
   "metadata": {},
   "source": [
    "# Create dataset"
   ]
  },
  {
   "cell_type": "code",
   "execution_count": 52,
   "metadata": {},
   "outputs": [
    {
     "name": "stderr",
     "output_type": "stream",
     "text": [
      "/Library/Frameworks/Python.framework/Versions/2.7/lib/python2.7/site-packages/simplejson/encoder.py:291: DeprecationWarning: Interpreting naive datetime as local 2018-07-31 09:53:16.764637. Please add timezone info to timestamps.\n",
      "  chunks = self.iterencode(o, _one_shot=True)\n"
     ]
    }
   ],
   "source": [
    "# define a function to create dataset\n",
    "def create_dateset(variables, seq_len):\n",
    "    dataX = []\n",
    "    dataY = []\n",
    "    for i in range(df_scaled.shape[0] - seq_len):\n",
    "        _x = df_scaled.loc[i:i+seq_len-1, variables].values\n",
    "        _y = [df_scaled.loc[i+seq_len, 'Revenue_Normalized']]\n",
    "        dataX.append(_x)\n",
    "        dataY.append(_y)\n",
    "    return dataX, dataY"
   ]
  },
  {
   "cell_type": "markdown",
   "metadata": {},
   "source": [
    "# Create train, validation and test set"
   ]
  },
  {
   "cell_type": "code",
   "execution_count": 53,
   "metadata": {},
   "outputs": [
    {
     "name": "stderr",
     "output_type": "stream",
     "text": [
      "/Library/Frameworks/Python.framework/Versions/2.7/lib/python2.7/site-packages/simplejson/encoder.py:291: DeprecationWarning: Interpreting naive datetime as local 2018-07-31 09:53:16.781345. Please add timezone info to timestamps.\n",
      "  chunks = self.iterencode(o, _one_shot=True)\n"
     ]
    }
   ],
   "source": [
    "def split_dataset(dataX, dataY, train_data_rate, val_data_rate, model):\n",
    "    train_size = int(len(dataY)*train_data_rate)\n",
    "    val_size = int(len(dataY)*val_data_rate)\n",
    "    test_size = len(dataY) - train_size - val_size\n",
    "\n",
    "    if model=='linear':\n",
    "        trainX, valX, testX = np.array(dataX[:train_size]).reshape((train_size, -1)),\\\n",
    "                                       np.array(dataX[train_size:train_size+val_size]).reshape((val_size, -1)),\\\n",
    "                                       np.array(dataX[train_size+val_size:len(dataX)]).reshape((test_size, -1))\n",
    "        trainY, valY, testY = np.array(dataY[:train_size]).reshape((train_size, -1)),\\\n",
    "                                       np.array(dataY[train_size:train_size+val_size]).reshape((val_size, -1)),\\\n",
    "                                       np.array(dataY[train_size+val_size:len(dataY)]).reshape((test_size, -1))\n",
    "    elif model=='lstm':\n",
    "        trainX, valX, testX = np.array(dataX[:train_size]), np.array(dataX[train_size:train_size+val_size]), np.array(dataX[train_size+val_size:len(dataX)])\n",
    "        trainY, valY, testY = np.array(dataY[:train_size]), np.array(dataY[train_size:train_size+val_size]), np.array(dataY[train_size+val_size:len(dataY)])\n",
    "    return (trainX, valX, testX, trainY, valY, testY)"
   ]
  },
  {
   "cell_type": "markdown",
   "metadata": {},
   "source": [
    "# Error calculator"
   ]
  },
  {
   "cell_type": "code",
   "execution_count": 54,
   "metadata": {},
   "outputs": [
    {
     "name": "stderr",
     "output_type": "stream",
     "text": [
      "/Library/Frameworks/Python.framework/Versions/2.7/lib/python2.7/site-packages/simplejson/encoder.py:291: DeprecationWarning: Interpreting naive datetime as local 2018-07-31 09:53:16.803822. Please add timezone info to timestamps.\n",
      "  chunks = self.iterencode(o, _one_shot=True)\n"
     ]
    }
   ],
   "source": [
    "def calculate_error(trained_model, X, Y):\n",
    "    def _rmse(target, pred):\n",
    "        error = np.sqrt(np.mean(np.square(target - pred)))\n",
    "        return error\n",
    "    pred = trained_model.predict(X)\n",
    "    rmse_error = _rmse(Y, pred)\n",
    "    return rmse_error"
   ]
  },
  {
   "cell_type": "markdown",
   "metadata": {},
   "source": [
    "# Validate seq_len"
   ]
  },
  {
   "cell_type": "code",
   "execution_count": 55,
   "metadata": {},
   "outputs": [
    {
     "name": "stderr",
     "output_type": "stream",
     "text": [
      "/Library/Frameworks/Python.framework/Versions/2.7/lib/python2.7/site-packages/simplejson/encoder.py:291: DeprecationWarning: Interpreting naive datetime as local 2018-07-31 09:53:16.820878. Please add timezone info to timestamps.\n",
      "  chunks = self.iterencode(o, _one_shot=True)\n"
     ]
    }
   ],
   "source": [
    "def validate_seq_len(seq_len_list, train_data_rate, val_data_rate, model):\n",
    "    val_rmse_errors = []\n",
    "    for seq_len in seq_len_list:\n",
    "        dataX, dataY = create_dateset(regression_variables, seq_len)\n",
    "        (lm_trainX, lm_valX, lm_testX, lm_trainY, lm_valY, lm_testY) = \\\n",
    "        split_dataset(dataX, dataY, train_data_rate, val_data_rate, model)\n",
    "        lm = linear_model(lm_trainX, lm_trainY)\n",
    "        val_rmse_error = calculate_error(lm, lm_valX, lm_valY)\n",
    "        val_rmse_errors.append(val_rmse_error)\n",
    "    plt.plot(seq_len_list, val_rmse_errors)\n",
    "    plt.show()"
   ]
  },
  {
   "cell_type": "markdown",
   "metadata": {},
   "source": [
    "# Define variables to use"
   ]
  },
  {
   "cell_type": "code",
   "execution_count": 56,
   "metadata": {},
   "outputs": [
    {
     "name": "stdout",
     "output_type": "stream",
     "text": [
      "[u'KOSPI', u'KOSDAQ', u'Precipitation', 'Average_Temperature_Normalized', 'Revenue_Normalized']\n"
     ]
    },
    {
     "name": "stderr",
     "output_type": "stream",
     "text": [
      "/Library/Frameworks/Python.framework/Versions/2.7/lib/python2.7/site-packages/simplejson/encoder.py:291: DeprecationWarning: Interpreting naive datetime as local 2018-07-31 09:53:16.844766. Please add timezone info to timestamps.\n",
      "  chunks = self.iterencode(o, _one_shot=True)\n"
     ]
    }
   ],
   "source": [
    "# Hyperparameters for Linear model. Tune these variables.\n",
    "regression_variables = df_scaled.columns.tolist()\n",
    "variables_to_remove = ['Date', 'Rate_Class', 'Revenue', 'Season', \n",
    "                       'Average_Temperature', 'Lowest_Temperature',\n",
    "                       'Highest_temperature', 'Fitness', 'Gym', 'Diet',\n",
    "                       'Body', 'Duration_of_Fog', 'Sports_Center', \n",
    "                       'Busan_Sports_Center', 'Busan_Gym', 'Average_Relative_humidity',\n",
    "                       'Average_Wind_Speed', 'Daylight_Hours', 'Cloud_Cover']\n",
    "\n",
    "for variable in variables_to_remove:\n",
    "    regression_variables.remove(variable)\n",
    "print(regression_variables)"
   ]
  },
  {
   "cell_type": "markdown",
   "metadata": {},
   "source": [
    "# 1) Linear Model"
   ]
  },
  {
   "cell_type": "markdown",
   "metadata": {},
   "source": [
    "# Import additional packages "
   ]
  },
  {
   "cell_type": "code",
   "execution_count": 57,
   "metadata": {},
   "outputs": [
    {
     "name": "stderr",
     "output_type": "stream",
     "text": [
      "/Library/Frameworks/Python.framework/Versions/2.7/lib/python2.7/site-packages/simplejson/encoder.py:291: DeprecationWarning: Interpreting naive datetime as local 2018-07-31 09:53:16.866747. Please add timezone info to timestamps.\n",
      "  chunks = self.iterencode(o, _one_shot=True)\n"
     ]
    }
   ],
   "source": [
    "from sklearn.linear_model import LinearRegression"
   ]
  },
  {
   "cell_type": "markdown",
   "metadata": {},
   "source": [
    "# Define a function to create and train linear model"
   ]
  },
  {
   "cell_type": "code",
   "execution_count": 58,
   "metadata": {},
   "outputs": [
    {
     "name": "stderr",
     "output_type": "stream",
     "text": [
      "/Library/Frameworks/Python.framework/Versions/2.7/lib/python2.7/site-packages/simplejson/encoder.py:291: DeprecationWarning: Interpreting naive datetime as local 2018-07-31 09:53:18.026766. Please add timezone info to timestamps.\n",
      "  chunks = self.iterencode(o, _one_shot=True)\n"
     ]
    }
   ],
   "source": [
    "def linear_model(lm_trainX, lm_trainY, fit_intercept=True, normalize=False, copy_X=True):\n",
    "    lm = LinearRegression(fit_intercept=fit_intercept, normalize=normalize, copy_X=copy_X)\n",
    "    lm.fit(lm_trainX, lm_trainY)\n",
    "    return lm"
   ]
  },
  {
   "cell_type": "code",
   "execution_count": 59,
   "metadata": {},
   "outputs": [
    {
     "name": "stderr",
     "output_type": "stream",
     "text": [
      "/Library/Frameworks/Python.framework/Versions/2.7/lib/python2.7/site-packages/scipy/linalg/basic.py:1018: RuntimeWarning: internal gelsd driver lwork query error, required iwork dimension not returned. This is likely the result of LAPACK bug 0038, fixed in LAPACK 3.2.2 (released July 21, 2010). Falling back to 'gelss' driver.\n",
      "  warnings.warn(mesg, RuntimeWarning)\n"
     ]
    },
    {
     "data": {
      "image/png": "[encoded data removed]",
      "text/plain": [
       "<matplotlib.figure.Figure at 0x10b322210>"
      ]
     },
     "metadata": {},
     "output_type": "display_data"
    },
    {
     "name": "stderr",
     "output_type": "stream",
     "text": [
      "/Library/Frameworks/Python.framework/Versions/2.7/lib/python2.7/site-packages/simplejson/encoder.py:291: DeprecationWarning: Interpreting naive datetime as local 2018-07-31 09:53:18.043835. Please add timezone info to timestamps.\n",
      "  chunks = self.iterencode(o, _one_shot=True)\n"
     ]
    }
   ],
   "source": [
    "validate_seq_len(seq_len_list=[1,2,3,4,5,6,7,8,9], train_data_rate=0.6, val_data_rate=0.25, model='linear')"
   ]
  },
  {
   "cell_type": "markdown",
   "metadata": {},
   "source": [
    "# Assign hyperparameters"
   ]
  },
  {
   "cell_type": "code",
   "execution_count": 60,
   "metadata": {},
   "outputs": [
    {
     "name": "stderr",
     "output_type": "stream",
     "text": [
      "/Library/Frameworks/Python.framework/Versions/2.7/lib/python2.7/site-packages/simplejson/encoder.py:291: DeprecationWarning: Interpreting naive datetime as local 2018-07-31 09:53:28.369999. Please add timezone info to timestamps.\n",
      "  chunks = self.iterencode(o, _one_shot=True)\n"
     ]
    }
   ],
   "source": [
    "seq_len = 4"
   ]
  },
  {
   "cell_type": "markdown",
   "metadata": {},
   "source": [
    "# Create and split dataset"
   ]
  },
  {
   "cell_type": "code",
   "execution_count": 61,
   "metadata": {},
   "outputs": [
    {
     "name": "stderr",
     "output_type": "stream",
     "text": [
      "/Library/Frameworks/Python.framework/Versions/2.7/lib/python2.7/site-packages/simplejson/encoder.py:291: DeprecationWarning: Interpreting naive datetime as local 2018-07-31 09:53:28.379403. Please add timezone info to timestamps.\n",
      "  chunks = self.iterencode(o, _one_shot=True)\n"
     ]
    }
   ],
   "source": [
    "dataX, dataY = create_dateset(regression_variables, seq_len=seq_len)\n",
    "(lm_trainX, lm_valX, lm_testX, lm_trainY, lm_valY, lm_testY) = \\\n",
    "        split_dataset(dataX, dataY, 0.6, 0.25, 'linear')"
   ]
  },
  {
   "cell_type": "markdown",
   "metadata": {},
   "source": [
    "# Train linear model"
   ]
  },
  {
   "cell_type": "code",
   "execution_count": 62,
   "metadata": {},
   "outputs": [
    {
     "name": "stderr",
     "output_type": "stream",
     "text": [
      "/Library/Frameworks/Python.framework/Versions/2.7/lib/python2.7/site-packages/simplejson/encoder.py:291: DeprecationWarning: Interpreting naive datetime as local 2018-07-31 09:53:29.298934. Please add timezone info to timestamps.\n",
      "  chunks = self.iterencode(o, _one_shot=True)\n"
     ]
    }
   ],
   "source": [
    "lm = linear_model(lm_trainX, lm_trainY, fit_intercept=True, normalize=False, copy_X=True)"
   ]
  },
  {
   "cell_type": "markdown",
   "metadata": {},
   "source": [
    "# Evaluation"
   ]
  },
  {
   "cell_type": "code",
   "execution_count": 63,
   "metadata": {},
   "outputs": [
    {
     "data": {
      "image/png": "[encoded data removed]",
      "text/plain": [
       "<matplotlib.figure.Figure at 0x108fe3410>"
      ]
     },
     "metadata": {},
     "output_type": "display_data"
    },
    {
     "name": "stderr",
     "output_type": "stream",
     "text": [
      "/Library/Frameworks/Python.framework/Versions/2.7/lib/python2.7/site-packages/simplejson/encoder.py:291: DeprecationWarning: Interpreting naive datetime as local 2018-07-31 09:53:29.310334. Please add timezone info to timestamps.\n",
      "  chunks = self.iterencode(o, _one_shot=True)\n"
     ]
    }
   ],
   "source": [
    "test_pred = lm.predict(lm_testX)\n",
    "plt.plot(test_pred, color='red')\n",
    "plt.plot(lm_testY)\n",
    "plt.show()"
   ]
  },
  {
   "cell_type": "code",
   "execution_count": 64,
   "metadata": {},
   "outputs": [
    {
     "name": "stdout",
     "output_type": "stream",
     "text": [
      "0.959648817247728\n"
     ]
    },
    {
     "name": "stderr",
     "output_type": "stream",
     "text": [
      "/Library/Frameworks/Python.framework/Versions/2.7/lib/python2.7/site-packages/simplejson/encoder.py:291: DeprecationWarning: Interpreting naive datetime as local 2018-07-31 09:53:29.568431. Please add timezone info to timestamps.\n",
      "  chunks = self.iterencode(o, _one_shot=True)\n"
     ]
    }
   ],
   "source": [
    "test_error = calculate_error(lm, lm_testX, lm_testY)\n",
    "print(test_error)"
   ]
  },
  {
   "cell_type": "markdown",
   "metadata": {},
   "source": [
    "# 2) LSTM "
   ]
  },
  {
   "cell_type": "markdown",
   "metadata": {},
   "source": [
    "# Import additional packages "
   ]
  },
  {
   "cell_type": "code",
   "execution_count": 65,
   "metadata": {},
   "outputs": [
    {
     "name": "stderr",
     "output_type": "stream",
     "text": [
      "/Library/Frameworks/Python.framework/Versions/2.7/lib/python2.7/site-packages/simplejson/encoder.py:291: DeprecationWarning: Interpreting naive datetime as local 2018-07-31 09:53:29.581531. Please add timezone info to timestamps.\n",
      "  chunks = self.iterencode(o, _one_shot=True)\n"
     ]
    }
   ],
   "source": [
    "import tensorflow as tf"
   ]
  },
  {
   "cell_type": "markdown",
   "metadata": {},
   "source": [
    "# Assign hyperparameters "
   ]
  },
  {
   "cell_type": "code",
   "execution_count": 128,
   "metadata": {},
   "outputs": [
    {
     "name": "stderr",
     "output_type": "stream",
     "text": [
      "/Library/Frameworks/Python.framework/Versions/2.7/lib/python2.7/site-packages/simplejson/encoder.py:291: DeprecationWarning: Interpreting naive datetime as local 2018-07-31 10:22:58.654943. Please add timezone info to timestamps.\n",
      "  chunks = self.iterencode(o, _one_shot=True)\n"
     ]
    }
   ],
   "source": [
    "# Hyperparameters for LSTM model. Tune these variables.\n",
    "# Fixed hyperparameters\n",
    "data_dim = len(regression_variables)\n",
    "output_dim = 1\n",
    "\n",
    "seq_len = 4\n",
    "hidden_dim = 20\n",
    "iterations = 150"
   ]
  },
  {
   "cell_type": "markdown",
   "metadata": {},
   "source": [
    "# Create dataset for lstm model"
   ]
  },
  {
   "cell_type": "code",
   "execution_count": 122,
   "metadata": {},
   "outputs": [
    {
     "name": "stderr",
     "output_type": "stream",
     "text": [
      "/Library/Frameworks/Python.framework/Versions/2.7/lib/python2.7/site-packages/simplejson/encoder.py:291: DeprecationWarning: Interpreting naive datetime as local 2018-07-31 10:22:16.491627. Please add timezone info to timestamps.\n",
      "  chunks = self.iterencode(o, _one_shot=True)\n"
     ]
    }
   ],
   "source": [
    "dataX, dataY = create_dateset(seq_len=seq_len, variables=regression_variables)\n",
    "(lstm_trainX, lstm_valX, lstm_testX, lstm_trainY, lstm_valY, lstm_testY) = split_dataset(dataX, dataY, 0.6, 0.25, 'lstm')"
   ]
  },
  {
   "cell_type": "markdown",
   "metadata": {},
   "source": [
    "# Create and train LSTM model"
   ]
  },
  {
   "cell_type": "code",
   "execution_count": 123,
   "metadata": {},
   "outputs": [
    {
     "name": "stderr",
     "output_type": "stream",
     "text": [
      "/Library/Frameworks/Python.framework/Versions/2.7/lib/python2.7/site-packages/simplejson/encoder.py:291: DeprecationWarning: Interpreting naive datetime as local 2018-07-31 10:22:27.856019. Please add timezone info to timestamps.\n",
      "  chunks = self.iterencode(o, _one_shot=True)\n"
     ]
    }
   ],
   "source": [
    "def create_lstm_model(seq_len, data_dim, output_dim, hidden_dim):\n",
    "    tf.reset_default_graph()\n",
    "\n",
    "    X = tf.placeholder(tf.float32, [None, seq_len, data_dim])\n",
    "    Y = tf.placeholder(tf.float32, [None, output_dim])\n",
    "\n",
    "    cell = tf.contrib.rnn.BasicLSTMCell(num_units=hidden_dim, state_is_tuple=True)\n",
    "    outputs, _states = tf.nn.dynamic_rnn(cell, X, dtype = tf.float32)\n",
    "    \n",
    "    Y_pred = tf.contrib.layers.fully_connected(outputs[:, -1], output_dim, activation_fn=None)\n",
    "    loss = tf.sqrt(tf.reduce_mean(tf.square(Y_pred - Y)))\n",
    "    optimizer = tf.train.AdamOptimizer(0.001)\n",
    "    train = optimizer.minimize(loss)\n",
    "    \n",
    "    predictions = tf.placeholder(tf.float32, [None, 1])\n",
    "    targets = tf.placeholder(tf.float32, [None, 1])\n",
    "    rmse = tf.sqrt(tf.reduce_mean(tf.square(targets - predictions)))\n",
    "    return (X, Y, Y_pred, train, loss, targets, predictions, rmse)\n",
    "    \n",
    "def train_lstm_model(lstm_trainX, lstm_trainY, lstm_valX, lstm_valY, seq_len, data_dim, output_dim, hidden_dim, iterations):\n",
    "    X, Y, Y_pred, train, loss, targets, predictions, rmse = create_lstm_model(seq_len, data_dim, output_dim, hidden_dim)\n",
    "    sess = tf.Session()\n",
    "    init = tf.global_variables_initializer()\n",
    "    sess.run(init)\n",
    "    \n",
    "    for i in range(iterations) :\n",
    "        _, _ = sess.run([train, loss], feed_dict = {X:lstm_trainX, Y:lstm_trainY})\n",
    "        if i % 100 == 0:\n",
    "            step_loss = sess.run(loss, feed_dict = {X:lstm_valX, Y:lstm_valY}) \n",
    "            print(\"Step {} - loss : {}\".format(i, step_loss))\n",
    "    return sess, X, Y, Y_pred, targets, predictions, rmse\n",
    "\n",
    "def validate_error(sess, X, Y, Y_pred, targets, predictions, rmse, lstm_valX, lstm_valY, lstm_testX, lstm_testY):\n",
    "    val_predict = sess.run(Y_pred, feed_dict = {X:lstm_valX})\n",
    "    val_rmse_error = sess.run(rmse, feed_dict = {targets: lstm_valY, predictions : val_predict})\n",
    "    print(\"VALIDATION RMSE ERROR : {}\".format(val_rmse_error))\n",
    "    test_predict = sess.run(Y_pred, feed_dict = {X:lstm_testX})\n",
    "    test_rmse_error = sess.run(rmse, feed_dict = {targets : lstm_testY, predictions:test_predict})\n",
    "    print(\"TEST RMSE ERROR : {}\".format(test_rmse_error))\n",
    "    \n",
    "    plt.plot(lstm_valY)\n",
    "    plt.plot(val_predict)\n",
    "    plt.xlabel(\"Time Period\")\n",
    "    plt.show()\n",
    "    plt.plot(lstm_testY)\n",
    "    plt.plot(test_predict)\n",
    "    plt.xlabel(\"Time Period\")\n",
    "    plt.show()\n",
    "    return np.reshape(test_predict, [-1])\n"
   ]
  },
  {
   "cell_type": "code",
   "execution_count": 129,
   "metadata": {},
   "outputs": [
    {
     "name": "stdout",
     "output_type": "stream",
     "text": [
      "Step 0 - loss : 1.02736616135\n",
      "Step 100 - loss : 0.977544367313\n"
     ]
    },
    {
     "name": "stderr",
     "output_type": "stream",
     "text": [
      "/Library/Frameworks/Python.framework/Versions/2.7/lib/python2.7/site-packages/simplejson/encoder.py:291: DeprecationWarning: Interpreting naive datetime as local 2018-07-31 10:23:01.450716. Please add timezone info to timestamps.\n",
      "  chunks = self.iterencode(o, _one_shot=True)\n"
     ]
    }
   ],
   "source": [
    "sess, X, Y, Y_pred, targets, predictions, rmse = train_lstm_model(lstm_trainX, lstm_trainY, lstm_valX, lstm_valY, seq_len, data_dim, output_dim, hidden_dim, iterations)"
   ]
  },
  {
   "cell_type": "code",
   "execution_count": 130,
   "metadata": {},
   "outputs": [
    {
     "name": "stdout",
     "output_type": "stream",
     "text": [
      "VALIDATION RMSE ERROR : 0.988612651825\n",
      "TEST RMSE ERROR : 0.983074903488\n"
     ]
    },
    {
     "data": {
      "image/png": "[encoded data removed]",
      "text/plain": [
       "<matplotlib.figure.Figure at 0x11bdde310>"
      ]
     },
     "metadata": {},
     "output_type": "display_data"
    },
    {
     "data": {
      "image/png": "[encoded data removed]",
      "text/plain": [
       "<matplotlib.figure.Figure at 0x11bbd9290>"
      ]
     },
     "metadata": {},
     "output_type": "display_data"
    },
    {
     "name": "stderr",
     "output_type": "stream",
     "text": [
      "/Library/Frameworks/Python.framework/Versions/2.7/lib/python2.7/site-packages/simplejson/encoder.py:291: DeprecationWarning: Interpreting naive datetime as local 2018-07-31 10:23:03.917810. Please add timezone info to timestamps.\n",
      "  chunks = self.iterencode(o, _one_shot=True)\n"
     ]
    }
   ],
   "source": [
    "test_predict = validate_error(sess, X, Y, Y_pred, targets, predictions, rmse, lstm_valX, lstm_valY, lstm_testX, lstm_testY)"
   ]
  },
  {
   "cell_type": "code",
   "execution_count": 176,
   "metadata": {},
   "outputs": [
    {
     "name": "stderr",
     "output_type": "stream",
     "text": [
      "/Library/Frameworks/Python.framework/Versions/2.7/lib/python2.7/site-packages/simplejson/encoder.py:291: DeprecationWarning: Interpreting naive datetime as local 2018-07-31 09:07:54.650499. Please add timezone info to timestamps.\n",
      "  chunks = self.iterencode(o, _one_shot=True)\n"
     ]
    }
   ],
   "source": [
    "sess.close()"
   ]
  },
  {
   "cell_type": "code",
   "execution_count": 131,
   "metadata": {},
   "outputs": [
    {
     "name": "stderr",
     "output_type": "stream",
     "text": [
      "/Library/Frameworks/Python.framework/Versions/2.7/lib/python2.7/site-packages/simplejson/encoder.py:291: DeprecationWarning: Interpreting naive datetime as local 2018-07-31 10:23:24.459082. Please add timezone info to timestamps.\n",
      "  chunks = self.iterencode(o, _one_shot=True)\n"
     ]
    }
   ],
   "source": [
    "def unnormalize(normalized_values, means, sds, dataY, train_data_rate, val_data_rate):\n",
    "    train_size = int(len(dataY)*train_data_rate)\n",
    "    val_size = int(len(dataY)*val_data_rate)\n",
    "    start_idx = train_size + val_size\n",
    "    end_idx = len(dataY) - 1\n",
    "    # assume start_idx is from the second year\n",
    "    unnormalized_values = []\n",
    "    for i in range(start_idx, end_idx+1):\n",
    "        month_idx = df['Date'][i].month + 12 - 2\n",
    "        unnormalized_values.append(normalized_values[i-start_idx] * sds[month_idx] + means[month_idx])\n",
    "    return unnormalized_values, start_idx, end_idx\n",
    "    "
   ]
  },
  {
   "cell_type": "code",
   "execution_count": 132,
   "metadata": {},
   "outputs": [
    {
     "name": "stderr",
     "output_type": "stream",
     "text": [
      "/Library/Frameworks/Python.framework/Versions/2.7/lib/python2.7/site-packages/simplejson/encoder.py:291: DeprecationWarning: Interpreting naive datetime as local 2018-07-31 10:23:25.542398. Please add timezone info to timestamps.\n",
      "  chunks = self.iterencode(o, _one_shot=True)\n"
     ]
    }
   ],
   "source": [
    "predicted_revenue, start_idx, end_idx = unnormalize(test_predict, mean_revenues, sd_revenues, dataY, 0.6, 0.25)"
   ]
  },
  {
   "cell_type": "code",
   "execution_count": 133,
   "metadata": {},
   "outputs": [
    {
     "name": "stderr",
     "output_type": "stream",
     "text": [
      "/Library/Frameworks/Python.framework/Versions/2.7/lib/python2.7/site-packages/simplejson/encoder.py:291: DeprecationWarning: Interpreting naive datetime as local 2018-07-31 10:23:26.431727. Please add timezone info to timestamps.\n",
      "  chunks = self.iterencode(o, _one_shot=True)\n"
     ]
    }
   ],
   "source": [
    "true_revenue, Date = df['Revenue'][start_idx:end_idx+1], df['Date'][start_idx:end_idx+1]"
   ]
  },
  {
   "cell_type": "code",
   "execution_count": 134,
   "metadata": {},
   "outputs": [
    {
     "name": "stderr",
     "output_type": "stream",
     "text": [
      "/Library/Frameworks/Python.framework/Versions/2.7/lib/python2.7/site-packages/simplejson/encoder.py:291: DeprecationWarning: Interpreting naive datetime as local 2018-07-31 10:23:27.377414. Please add timezone info to timestamps.\n",
      "  chunks = self.iterencode(o, _one_shot=True)\n"
     ]
    }
   ],
   "source": [
    "prediction_df = pd.DataFrame(columns = ['Date', 'True_Revenue', 'Pred_Revenue'])\n",
    "prediction_df['Date'] = Date\n",
    "prediction_df['True_Revenue'] = true_revenue\n",
    "prediction_df['Pred_Revenue'] = np.around(predicted_revenue, decimals=-3).astype(dtype=int)"
   ]
  },
  {
   "cell_type": "code",
   "execution_count": 135,
   "metadata": {},
   "outputs": [
    {
     "data": {
      "text/html": [
       "<div>\n",
       "<table border=\"1\" class=\"dataframe\">\n",
       "  <thead>\n",
       "    <tr style=\"text-align: right;\">\n",
       "      <th></th>\n",
       "      <th>Date</th>\n",
       "      <th>True_Revenue</th>\n",
       "      <th>Pred_Revenue</th>\n",
       "    </tr>\n",
       "  </thead>\n",
       "  <tbody>\n",
       "    <tr>\n",
       "      <th>531</th>\n",
       "      <td>2017-09-04</td>\n",
       "      <td>96000</td>\n",
       "      <td>684000</td>\n",
       "    </tr>\n",
       "    <tr>\n",
       "      <th>532</th>\n",
       "      <td>2017-09-05</td>\n",
       "      <td>2898000</td>\n",
       "      <td>562000</td>\n",
       "    </tr>\n",
       "    <tr>\n",
       "      <th>533</th>\n",
       "      <td>2017-09-06</td>\n",
       "      <td>1178000</td>\n",
       "      <td>500000</td>\n",
       "    </tr>\n",
       "    <tr>\n",
       "      <th>534</th>\n",
       "      <td>2017-09-07</td>\n",
       "      <td>661000</td>\n",
       "      <td>637000</td>\n",
       "    </tr>\n",
       "    <tr>\n",
       "      <th>535</th>\n",
       "      <td>2017-09-08</td>\n",
       "      <td>327000</td>\n",
       "      <td>546000</td>\n",
       "    </tr>\n",
       "    <tr>\n",
       "      <th>536</th>\n",
       "      <td>2017-09-09</td>\n",
       "      <td>394000</td>\n",
       "      <td>557000</td>\n",
       "    </tr>\n",
       "    <tr>\n",
       "      <th>537</th>\n",
       "      <td>2017-09-11</td>\n",
       "      <td>210000</td>\n",
       "      <td>583000</td>\n",
       "    </tr>\n",
       "    <tr>\n",
       "      <th>538</th>\n",
       "      <td>2017-09-12</td>\n",
       "      <td>246900</td>\n",
       "      <td>690000</td>\n",
       "    </tr>\n",
       "    <tr>\n",
       "      <th>539</th>\n",
       "      <td>2017-09-13</td>\n",
       "      <td>341700</td>\n",
       "      <td>713000</td>\n",
       "    </tr>\n",
       "    <tr>\n",
       "      <th>540</th>\n",
       "      <td>2017-09-14</td>\n",
       "      <td>448000</td>\n",
       "      <td>718000</td>\n",
       "    </tr>\n",
       "    <tr>\n",
       "      <th>541</th>\n",
       "      <td>2017-09-15</td>\n",
       "      <td>640000</td>\n",
       "      <td>804000</td>\n",
       "    </tr>\n",
       "    <tr>\n",
       "      <th>542</th>\n",
       "      <td>2017-09-16</td>\n",
       "      <td>450000</td>\n",
       "      <td>708000</td>\n",
       "    </tr>\n",
       "    <tr>\n",
       "      <th>543</th>\n",
       "      <td>2017-09-18</td>\n",
       "      <td>450000</td>\n",
       "      <td>682000</td>\n",
       "    </tr>\n",
       "    <tr>\n",
       "      <th>544</th>\n",
       "      <td>2017-09-19</td>\n",
       "      <td>2472000</td>\n",
       "      <td>637000</td>\n",
       "    </tr>\n",
       "    <tr>\n",
       "      <th>545</th>\n",
       "      <td>2017-09-20</td>\n",
       "      <td>980000</td>\n",
       "      <td>715000</td>\n",
       "    </tr>\n",
       "    <tr>\n",
       "      <th>546</th>\n",
       "      <td>2017-09-21</td>\n",
       "      <td>650000</td>\n",
       "      <td>710000</td>\n",
       "    </tr>\n",
       "    <tr>\n",
       "      <th>547</th>\n",
       "      <td>2017-09-22</td>\n",
       "      <td>740000</td>\n",
       "      <td>805000</td>\n",
       "    </tr>\n",
       "    <tr>\n",
       "      <th>548</th>\n",
       "      <td>2017-09-23</td>\n",
       "      <td>626000</td>\n",
       "      <td>763000</td>\n",
       "    </tr>\n",
       "    <tr>\n",
       "      <th>549</th>\n",
       "      <td>2017-09-25</td>\n",
       "      <td>483000</td>\n",
       "      <td>710000</td>\n",
       "    </tr>\n",
       "    <tr>\n",
       "      <th>550</th>\n",
       "      <td>2017-09-26</td>\n",
       "      <td>2550000</td>\n",
       "      <td>670000</td>\n",
       "    </tr>\n",
       "    <tr>\n",
       "      <th>551</th>\n",
       "      <td>2017-09-27</td>\n",
       "      <td>727000</td>\n",
       "      <td>823000</td>\n",
       "    </tr>\n",
       "    <tr>\n",
       "      <th>552</th>\n",
       "      <td>2017-09-28</td>\n",
       "      <td>364000</td>\n",
       "      <td>891000</td>\n",
       "    </tr>\n",
       "    <tr>\n",
       "      <th>553</th>\n",
       "      <td>2017-09-29</td>\n",
       "      <td>494000</td>\n",
       "      <td>886000</td>\n",
       "    </tr>\n",
       "    <tr>\n",
       "      <th>554</th>\n",
       "      <td>2017-09-30</td>\n",
       "      <td>180000</td>\n",
       "      <td>915000</td>\n",
       "    </tr>\n",
       "    <tr>\n",
       "      <th>555</th>\n",
       "      <td>2017-10-06</td>\n",
       "      <td>650000</td>\n",
       "      <td>654000</td>\n",
       "    </tr>\n",
       "    <tr>\n",
       "      <th>556</th>\n",
       "      <td>2017-10-07</td>\n",
       "      <td>520000</td>\n",
       "      <td>620000</td>\n",
       "    </tr>\n",
       "    <tr>\n",
       "      <th>557</th>\n",
       "      <td>2017-10-08</td>\n",
       "      <td>2890000</td>\n",
       "      <td>527000</td>\n",
       "    </tr>\n",
       "    <tr>\n",
       "      <th>558</th>\n",
       "      <td>2017-10-09</td>\n",
       "      <td>946000</td>\n",
       "      <td>699000</td>\n",
       "    </tr>\n",
       "    <tr>\n",
       "      <th>559</th>\n",
       "      <td>2017-10-10</td>\n",
       "      <td>1650000</td>\n",
       "      <td>661000</td>\n",
       "    </tr>\n",
       "    <tr>\n",
       "      <th>560</th>\n",
       "      <td>2017-10-11</td>\n",
       "      <td>1100000</td>\n",
       "      <td>670000</td>\n",
       "    </tr>\n",
       "    <tr>\n",
       "      <th>561</th>\n",
       "      <td>2017-10-12</td>\n",
       "      <td>650000</td>\n",
       "      <td>648000</td>\n",
       "    </tr>\n",
       "    <tr>\n",
       "      <th>562</th>\n",
       "      <td>2017-10-13</td>\n",
       "      <td>881000</td>\n",
       "      <td>711000</td>\n",
       "    </tr>\n",
       "    <tr>\n",
       "      <th>563</th>\n",
       "      <td>2017-10-16</td>\n",
       "      <td>890000</td>\n",
       "      <td>710000</td>\n",
       "    </tr>\n",
       "    <tr>\n",
       "      <th>564</th>\n",
       "      <td>2017-10-17</td>\n",
       "      <td>250000</td>\n",
       "      <td>721000</td>\n",
       "    </tr>\n",
       "    <tr>\n",
       "      <th>565</th>\n",
       "      <td>2017-10-18</td>\n",
       "      <td>806000</td>\n",
       "      <td>750000</td>\n",
       "    </tr>\n",
       "    <tr>\n",
       "      <th>566</th>\n",
       "      <td>2017-10-19</td>\n",
       "      <td>450000</td>\n",
       "      <td>777000</td>\n",
       "    </tr>\n",
       "    <tr>\n",
       "      <th>567</th>\n",
       "      <td>2017-10-20</td>\n",
       "      <td>250000</td>\n",
       "      <td>853000</td>\n",
       "    </tr>\n",
       "    <tr>\n",
       "      <th>568</th>\n",
       "      <td>2017-10-21</td>\n",
       "      <td>1100000</td>\n",
       "      <td>832000</td>\n",
       "    </tr>\n",
       "    <tr>\n",
       "      <th>569</th>\n",
       "      <td>2017-10-23</td>\n",
       "      <td>278000</td>\n",
       "      <td>883000</td>\n",
       "    </tr>\n",
       "    <tr>\n",
       "      <th>570</th>\n",
       "      <td>2017-10-24</td>\n",
       "      <td>980000</td>\n",
       "      <td>780000</td>\n",
       "    </tr>\n",
       "    <tr>\n",
       "      <th>571</th>\n",
       "      <td>2017-10-25</td>\n",
       "      <td>740000</td>\n",
       "      <td>751000</td>\n",
       "    </tr>\n",
       "    <tr>\n",
       "      <th>572</th>\n",
       "      <td>2017-10-26</td>\n",
       "      <td>1488000</td>\n",
       "      <td>707000</td>\n",
       "    </tr>\n",
       "    <tr>\n",
       "      <th>573</th>\n",
       "      <td>2017-10-27</td>\n",
       "      <td>690000</td>\n",
       "      <td>882000</td>\n",
       "    </tr>\n",
       "    <tr>\n",
       "      <th>574</th>\n",
       "      <td>2017-10-28</td>\n",
       "      <td>880000</td>\n",
       "      <td>904000</td>\n",
       "    </tr>\n",
       "    <tr>\n",
       "      <th>575</th>\n",
       "      <td>2017-10-29</td>\n",
       "      <td>360000</td>\n",
       "      <td>929000</td>\n",
       "    </tr>\n",
       "    <tr>\n",
       "      <th>576</th>\n",
       "      <td>2017-10-30</td>\n",
       "      <td>750000</td>\n",
       "      <td>839000</td>\n",
       "    </tr>\n",
       "    <tr>\n",
       "      <th>577</th>\n",
       "      <td>2017-10-31</td>\n",
       "      <td>450000</td>\n",
       "      <td>661000</td>\n",
       "    </tr>\n",
       "    <tr>\n",
       "      <th>578</th>\n",
       "      <td>2017-11-01</td>\n",
       "      <td>980000</td>\n",
       "      <td>732000</td>\n",
       "    </tr>\n",
       "    <tr>\n",
       "      <th>579</th>\n",
       "      <td>2017-11-02</td>\n",
       "      <td>1740000</td>\n",
       "      <td>729000</td>\n",
       "    </tr>\n",
       "    <tr>\n",
       "      <th>580</th>\n",
       "      <td>2017-11-03</td>\n",
       "      <td>650000</td>\n",
       "      <td>749000</td>\n",
       "    </tr>\n",
       "    <tr>\n",
       "      <th>581</th>\n",
       "      <td>2017-11-04</td>\n",
       "      <td>660000</td>\n",
       "      <td>708000</td>\n",
       "    </tr>\n",
       "    <tr>\n",
       "      <th>582</th>\n",
       "      <td>2017-11-06</td>\n",
       "      <td>587000</td>\n",
       "      <td>728000</td>\n",
       "    </tr>\n",
       "    <tr>\n",
       "      <th>583</th>\n",
       "      <td>2017-11-07</td>\n",
       "      <td>518000</td>\n",
       "      <td>724000</td>\n",
       "    </tr>\n",
       "    <tr>\n",
       "      <th>584</th>\n",
       "      <td>2017-11-08</td>\n",
       "      <td>212860</td>\n",
       "      <td>877000</td>\n",
       "    </tr>\n",
       "    <tr>\n",
       "      <th>585</th>\n",
       "      <td>2017-11-09</td>\n",
       "      <td>189000</td>\n",
       "      <td>830000</td>\n",
       "    </tr>\n",
       "    <tr>\n",
       "      <th>586</th>\n",
       "      <td>2017-11-10</td>\n",
       "      <td>257000</td>\n",
       "      <td>834000</td>\n",
       "    </tr>\n",
       "    <tr>\n",
       "      <th>587</th>\n",
       "      <td>2017-11-11</td>\n",
       "      <td>987000</td>\n",
       "      <td>894000</td>\n",
       "    </tr>\n",
       "    <tr>\n",
       "      <th>588</th>\n",
       "      <td>2017-11-13</td>\n",
       "      <td>354000</td>\n",
       "      <td>948000</td>\n",
       "    </tr>\n",
       "    <tr>\n",
       "      <th>589</th>\n",
       "      <td>2017-11-14</td>\n",
       "      <td>350000</td>\n",
       "      <td>963000</td>\n",
       "    </tr>\n",
       "    <tr>\n",
       "      <th>590</th>\n",
       "      <td>2017-11-15</td>\n",
       "      <td>980000</td>\n",
       "      <td>1003000</td>\n",
       "    </tr>\n",
       "    <tr>\n",
       "      <th>591</th>\n",
       "      <td>2017-11-16</td>\n",
       "      <td>798000</td>\n",
       "      <td>1016000</td>\n",
       "    </tr>\n",
       "    <tr>\n",
       "      <th>592</th>\n",
       "      <td>2017-11-17</td>\n",
       "      <td>350000</td>\n",
       "      <td>983000</td>\n",
       "    </tr>\n",
       "    <tr>\n",
       "      <th>593</th>\n",
       "      <td>2017-11-18</td>\n",
       "      <td>640000</td>\n",
       "      <td>975000</td>\n",
       "    </tr>\n",
       "    <tr>\n",
       "      <th>594</th>\n",
       "      <td>2017-11-20</td>\n",
       "      <td>968000</td>\n",
       "      <td>1059000</td>\n",
       "    </tr>\n",
       "    <tr>\n",
       "      <th>595</th>\n",
       "      <td>2017-11-21</td>\n",
       "      <td>842000</td>\n",
       "      <td>1127000</td>\n",
       "    </tr>\n",
       "    <tr>\n",
       "      <th>596</th>\n",
       "      <td>2017-11-22</td>\n",
       "      <td>170000</td>\n",
       "      <td>1153000</td>\n",
       "    </tr>\n",
       "    <tr>\n",
       "      <th>597</th>\n",
       "      <td>2017-11-23</td>\n",
       "      <td>246000</td>\n",
       "      <td>1087000</td>\n",
       "    </tr>\n",
       "    <tr>\n",
       "      <th>598</th>\n",
       "      <td>2017-11-24</td>\n",
       "      <td>330000</td>\n",
       "      <td>1007000</td>\n",
       "    </tr>\n",
       "    <tr>\n",
       "      <th>599</th>\n",
       "      <td>2017-11-25</td>\n",
       "      <td>450000</td>\n",
       "      <td>941000</td>\n",
       "    </tr>\n",
       "    <tr>\n",
       "      <th>600</th>\n",
       "      <td>2017-11-27</td>\n",
       "      <td>198000</td>\n",
       "      <td>1024000</td>\n",
       "    </tr>\n",
       "    <tr>\n",
       "      <th>601</th>\n",
       "      <td>2017-11-28</td>\n",
       "      <td>940000</td>\n",
       "      <td>1023000</td>\n",
       "    </tr>\n",
       "    <tr>\n",
       "      <th>602</th>\n",
       "      <td>2017-11-29</td>\n",
       "      <td>240000</td>\n",
       "      <td>1023000</td>\n",
       "    </tr>\n",
       "    <tr>\n",
       "      <th>603</th>\n",
       "      <td>2017-11-30</td>\n",
       "      <td>450000</td>\n",
       "      <td>909000</td>\n",
       "    </tr>\n",
       "    <tr>\n",
       "      <th>604</th>\n",
       "      <td>2017-12-01</td>\n",
       "      <td>150000</td>\n",
       "      <td>553000</td>\n",
       "    </tr>\n",
       "    <tr>\n",
       "      <th>605</th>\n",
       "      <td>2017-12-02</td>\n",
       "      <td>698000</td>\n",
       "      <td>534000</td>\n",
       "    </tr>\n",
       "    <tr>\n",
       "      <th>606</th>\n",
       "      <td>2017-12-04</td>\n",
       "      <td>1683000</td>\n",
       "      <td>539000</td>\n",
       "    </tr>\n",
       "    <tr>\n",
       "      <th>607</th>\n",
       "      <td>2017-12-05</td>\n",
       "      <td>1234000</td>\n",
       "      <td>611000</td>\n",
       "    </tr>\n",
       "    <tr>\n",
       "      <th>608</th>\n",
       "      <td>2017-12-06</td>\n",
       "      <td>450000</td>\n",
       "      <td>617000</td>\n",
       "    </tr>\n",
       "    <tr>\n",
       "      <th>609</th>\n",
       "      <td>2017-12-07</td>\n",
       "      <td>126000</td>\n",
       "      <td>641000</td>\n",
       "    </tr>\n",
       "    <tr>\n",
       "      <th>610</th>\n",
       "      <td>2017-12-08</td>\n",
       "      <td>958000</td>\n",
       "      <td>671000</td>\n",
       "    </tr>\n",
       "    <tr>\n",
       "      <th>611</th>\n",
       "      <td>2017-12-09</td>\n",
       "      <td>568000</td>\n",
       "      <td>729000</td>\n",
       "    </tr>\n",
       "    <tr>\n",
       "      <th>612</th>\n",
       "      <td>2017-12-11</td>\n",
       "      <td>360000</td>\n",
       "      <td>713000</td>\n",
       "    </tr>\n",
       "    <tr>\n",
       "      <th>613</th>\n",
       "      <td>2017-12-12</td>\n",
       "      <td>768000</td>\n",
       "      <td>655000</td>\n",
       "    </tr>\n",
       "    <tr>\n",
       "      <th>614</th>\n",
       "      <td>2017-12-13</td>\n",
       "      <td>248000</td>\n",
       "      <td>681000</td>\n",
       "    </tr>\n",
       "    <tr>\n",
       "      <th>615</th>\n",
       "      <td>2017-12-14</td>\n",
       "      <td>657000</td>\n",
       "      <td>659000</td>\n",
       "    </tr>\n",
       "    <tr>\n",
       "      <th>616</th>\n",
       "      <td>2017-12-15</td>\n",
       "      <td>248000</td>\n",
       "      <td>655000</td>\n",
       "    </tr>\n",
       "    <tr>\n",
       "      <th>617</th>\n",
       "      <td>2017-12-16</td>\n",
       "      <td>442000</td>\n",
       "      <td>663000</td>\n",
       "    </tr>\n",
       "    <tr>\n",
       "      <th>618</th>\n",
       "      <td>2017-12-18</td>\n",
       "      <td>658000</td>\n",
       "      <td>639000</td>\n",
       "    </tr>\n",
       "    <tr>\n",
       "      <th>619</th>\n",
       "      <td>2017-12-19</td>\n",
       "      <td>330000</td>\n",
       "      <td>624000</td>\n",
       "    </tr>\n",
       "    <tr>\n",
       "      <th>620</th>\n",
       "      <td>2017-12-20</td>\n",
       "      <td>541200</td>\n",
       "      <td>599000</td>\n",
       "    </tr>\n",
       "    <tr>\n",
       "      <th>621</th>\n",
       "      <td>2017-12-21</td>\n",
       "      <td>468000</td>\n",
       "      <td>594000</td>\n",
       "    </tr>\n",
       "    <tr>\n",
       "      <th>622</th>\n",
       "      <td>2017-12-22</td>\n",
       "      <td>98000</td>\n",
       "      <td>684000</td>\n",
       "    </tr>\n",
       "    <tr>\n",
       "      <th>623</th>\n",
       "      <td>2017-12-23</td>\n",
       "      <td>980000</td>\n",
       "      <td>707000</td>\n",
       "    </tr>\n",
       "    <tr>\n",
       "      <th>624</th>\n",
       "      <td>2017-12-26</td>\n",
       "      <td>540000</td>\n",
       "      <td>702000</td>\n",
       "    </tr>\n",
       "  </tbody>\n",
       "</table>\n",
       "</div>"
      ],
      "text/plain": [
       "          Date  True_Revenue  Pred_Revenue\n",
       "531 2017-09-04         96000        684000\n",
       "532 2017-09-05       2898000        562000\n",
       "533 2017-09-06       1178000        500000\n",
       "534 2017-09-07        661000        637000\n",
       "535 2017-09-08        327000        546000\n",
       "536 2017-09-09        394000        557000\n",
       "537 2017-09-11        210000        583000\n",
       "538 2017-09-12        246900        690000\n",
       "539 2017-09-13        341700        713000\n",
       "540 2017-09-14        448000        718000\n",
       "541 2017-09-15        640000        804000\n",
       "542 2017-09-16        450000        708000\n",
       "543 2017-09-18        450000        682000\n",
       "544 2017-09-19       2472000        637000\n",
       "545 2017-09-20        980000        715000\n",
       "546 2017-09-21        650000        710000\n",
       "547 2017-09-22        740000        805000\n",
       "548 2017-09-23        626000        763000\n",
       "549 2017-09-25        483000        710000\n",
       "550 2017-09-26       2550000        670000\n",
       "551 2017-09-27        727000        823000\n",
       "552 2017-09-28        364000        891000\n",
       "553 2017-09-29        494000        886000\n",
       "554 2017-09-30        180000        915000\n",
       "555 2017-10-06        650000        654000\n",
       "556 2017-10-07        520000        620000\n",
       "557 2017-10-08       2890000        527000\n",
       "558 2017-10-09        946000        699000\n",
       "559 2017-10-10       1650000        661000\n",
       "560 2017-10-11       1100000        670000\n",
       "561 2017-10-12        650000        648000\n",
       "562 2017-10-13        881000        711000\n",
       "563 2017-10-16        890000        710000\n",
       "564 2017-10-17        250000        721000\n",
       "565 2017-10-18        806000        750000\n",
       "566 2017-10-19        450000        777000\n",
       "567 2017-10-20        250000        853000\n",
       "568 2017-10-21       1100000        832000\n",
       "569 2017-10-23        278000        883000\n",
       "570 2017-10-24        980000        780000\n",
       "571 2017-10-25        740000        751000\n",
       "572 2017-10-26       1488000        707000\n",
       "573 2017-10-27        690000        882000\n",
       "574 2017-10-28        880000        904000\n",
       "575 2017-10-29        360000        929000\n",
       "576 2017-10-30        750000        839000\n",
       "577 2017-10-31        450000        661000\n",
       "578 2017-11-01        980000        732000\n",
       "579 2017-11-02       1740000        729000\n",
       "580 2017-11-03        650000        749000\n",
       "581 2017-11-04        660000        708000\n",
       "582 2017-11-06        587000        728000\n",
       "583 2017-11-07        518000        724000\n",
       "584 2017-11-08        212860        877000\n",
       "585 2017-11-09        189000        830000\n",
       "586 2017-11-10        257000        834000\n",
       "587 2017-11-11        987000        894000\n",
       "588 2017-11-13        354000        948000\n",
       "589 2017-11-14        350000        963000\n",
       "590 2017-11-15        980000       1003000\n",
       "591 2017-11-16        798000       1016000\n",
       "592 2017-11-17        350000        983000\n",
       "593 2017-11-18        640000        975000\n",
       "594 2017-11-20        968000       1059000\n",
       "595 2017-11-21        842000       1127000\n",
       "596 2017-11-22        170000       1153000\n",
       "597 2017-11-23        246000       1087000\n",
       "598 2017-11-24        330000       1007000\n",
       "599 2017-11-25        450000        941000\n",
       "600 2017-11-27        198000       1024000\n",
       "601 2017-11-28        940000       1023000\n",
       "602 2017-11-29        240000       1023000\n",
       "603 2017-11-30        450000        909000\n",
       "604 2017-12-01        150000        553000\n",
       "605 2017-12-02        698000        534000\n",
       "606 2017-12-04       1683000        539000\n",
       "607 2017-12-05       1234000        611000\n",
       "608 2017-12-06        450000        617000\n",
       "609 2017-12-07        126000        641000\n",
       "610 2017-12-08        958000        671000\n",
       "611 2017-12-09        568000        729000\n",
       "612 2017-12-11        360000        713000\n",
       "613 2017-12-12        768000        655000\n",
       "614 2017-12-13        248000        681000\n",
       "615 2017-12-14        657000        659000\n",
       "616 2017-12-15        248000        655000\n",
       "617 2017-12-16        442000        663000\n",
       "618 2017-12-18        658000        639000\n",
       "619 2017-12-19        330000        624000\n",
       "620 2017-12-20        541200        599000\n",
       "621 2017-12-21        468000        594000\n",
       "622 2017-12-22         98000        684000\n",
       "623 2017-12-23        980000        707000\n",
       "624 2017-12-26        540000        702000"
      ]
     },
     "execution_count": 135,
     "metadata": {},
     "output_type": "execute_result"
    },
    {
     "name": "stderr",
     "output_type": "stream",
     "text": [
      "/Library/Frameworks/Python.framework/Versions/2.7/lib/python2.7/site-packages/simplejson/encoder.py:291: DeprecationWarning: Interpreting naive datetime as local 2018-07-31 10:23:28.546194. Please add timezone info to timestamps.\n",
      "  chunks = self.iterencode(o, _one_shot=True)\n"
     ]
    }
   ],
   "source": [
    "prediction_df"
   ]
  },
  {
   "cell_type": "markdown",
   "metadata": {},
   "source": [
    "# Classification Models"
   ]
  },
  {
   "cell_type": "markdown",
   "metadata": {},
   "source": [
    "# 1) Decision Tree"
   ]
  },
  {
   "cell_type": "markdown",
   "metadata": {},
   "source": [
    "# Import additional packages "
   ]
  },
  {
   "cell_type": "code",
   "execution_count": 279,
   "metadata": {},
   "outputs": [
    {
     "name": "stderr",
     "output_type": "stream",
     "text": [
      "/Library/Frameworks/Python.framework/Versions/2.7/lib/python2.7/site-packages/simplejson/encoder.py:291: DeprecationWarning: Interpreting naive datetime as local 2018-07-31 12:10:11.813958. Please add timezone info to timestamps.\n",
      "  chunks = self.iterencode(o, _one_shot=True)\n"
     ]
    }
   ],
   "source": [
    "from sklearn import tree\n",
    "from sklearn.metrics import confusion_matrix\n",
    "import itertools"
   ]
  },
  {
   "cell_type": "markdown",
   "metadata": {},
   "source": [
    "# Determin which features are used"
   ]
  },
  {
   "cell_type": "code",
   "execution_count": 280,
   "metadata": {},
   "outputs": [
    {
     "name": "stdout",
     "output_type": "stream",
     "text": [
      "[u'KOSPI', u'KOSDAQ', u'Precipitation', u'Average_Wind_Speed', u'Average_Relative_humidity', u'Daylight_Hours', u'Cloud_Cover', u'Duration_of_Fog', u'Fitness', u'Sports_Center', u'Gym', u'Diet', u'Body', u'Busan_Sports_Center', u'Busan_Gym', 'Average_Temperature_Normalized', 'Revenue_Normalized']\n"
     ]
    },
    {
     "name": "stderr",
     "output_type": "stream",
     "text": [
      "/Library/Frameworks/Python.framework/Versions/2.7/lib/python2.7/site-packages/simplejson/encoder.py:291: DeprecationWarning: Interpreting naive datetime as local 2018-07-31 12:10:11.824098. Please add timezone info to timestamps.\n",
      "  chunks = self.iterencode(o, _one_shot=True)\n"
     ]
    }
   ],
   "source": [
    "# Hyperparameters for Linear model. Tune these variables.\n",
    "classification_variables = df_scaled.columns.tolist()\n",
    "variables_to_remove = ['Date', 'Rate_Class', 'Revenue', 'Season', 'Average_Temperature', 'Lowest_Temperature', 'Highest_temperature']\n",
    "\n",
    "for variable in variables_to_remove:\n",
    "    classification_variables.remove(variable)\n",
    "print(classification_variables)"
   ]
  },
  {
   "cell_type": "markdown",
   "metadata": {},
   "source": [
    "# Assign hyperparameters "
   ]
  },
  {
   "cell_type": "code",
   "execution_count": 281,
   "metadata": {},
   "outputs": [
    {
     "name": "stderr",
     "output_type": "stream",
     "text": [
      "/Library/Frameworks/Python.framework/Versions/2.7/lib/python2.7/site-packages/simplejson/encoder.py:291: DeprecationWarning: Interpreting naive datetime as local 2018-07-31 12:10:11.840391. Please add timezone info to timestamps.\n",
      "  chunks = self.iterencode(o, _one_shot=True)\n"
     ]
    }
   ],
   "source": [
    "# Hyperparameters for Decision Tree model. Tune these variables.\n",
    "seq_len = 4"
   ]
  },
  {
   "cell_type": "markdown",
   "metadata": {},
   "source": [
    "# Create dataset"
   ]
  },
  {
   "cell_type": "code",
   "execution_count": 282,
   "metadata": {},
   "outputs": [
    {
     "name": "stderr",
     "output_type": "stream",
     "text": [
      "/Library/Frameworks/Python.framework/Versions/2.7/lib/python2.7/site-packages/simplejson/encoder.py:291: DeprecationWarning: Interpreting naive datetime as local 2018-07-31 12:10:11.851098. Please add timezone info to timestamps.\n",
      "  chunks = self.iterencode(o, _one_shot=True)\n"
     ]
    }
   ],
   "source": [
    "# define a function to create dataset\n",
    "def create_dateset(variables, seq_len):\n",
    "    dataX = []\n",
    "    dataY = []\n",
    "    for i in range(df_scaled.shape[0] - seq_len):\n",
    "        _x = df_scaled.loc[i:i+seq_len-1, classification_variables].values\n",
    "        _y = [df_scaled.loc[i+seq_len, 'Rate_Class']]\n",
    "        dataX.append(_x)\n",
    "        dataY.append(_y)\n",
    "    return dataX, dataY"
   ]
  },
  {
   "cell_type": "markdown",
   "metadata": {},
   "source": [
    "# Create train, validation and test set"
   ]
  },
  {
   "cell_type": "code",
   "execution_count": 283,
   "metadata": {},
   "outputs": [
    {
     "name": "stderr",
     "output_type": "stream",
     "text": [
      "/Library/Frameworks/Python.framework/Versions/2.7/lib/python2.7/site-packages/simplejson/encoder.py:291: DeprecationWarning: Interpreting naive datetime as local 2018-07-31 12:10:11.867953. Please add timezone info to timestamps.\n",
      "  chunks = self.iterencode(o, _one_shot=True)\n"
     ]
    }
   ],
   "source": [
    "def split_dataset(dataX, dataY, train_data_rate, val_data_rate, model=None):\n",
    "    train_size = int(len(dataY)*train_data_rate)\n",
    "    val_size = int(len(dataY)*val_data_rate)\n",
    "    test_size = len(dataY) - train_size - val_size\n",
    "\n",
    "\n",
    "    trainX, valX, testX = np.array(dataX[:train_size]).reshape((train_size, -1)),\\\n",
    "                                    np.array(dataX[train_size:train_size+val_size]).reshape((val_size, -1)),\\\n",
    "                                    np.array(dataX[train_size+val_size:len(dataX)]).reshape((test_size, -1))\n",
    "    trainY, valY, testY = np.array(dataY[:train_size]).reshape((train_size, -1)),\\\n",
    "                                    np.array(dataY[train_size:train_size+val_size]).reshape((val_size, -1)),\\\n",
    "                                    np.array(dataY[train_size+val_size:len(dataY)]).reshape((test_size, -1))\n",
    "    return (trainX, valX, testX, trainY, valY, testY)"
   ]
  },
  {
   "cell_type": "code",
   "execution_count": 284,
   "metadata": {
    "scrolled": true
   },
   "outputs": [
    {
     "name": "stderr",
     "output_type": "stream",
     "text": [
      "/Library/Frameworks/Python.framework/Versions/2.7/lib/python2.7/site-packages/simplejson/encoder.py:291: DeprecationWarning: Interpreting naive datetime as local 2018-07-31 12:10:11.890062. Please add timezone info to timestamps.\n",
      "  chunks = self.iterencode(o, _one_shot=True)\n"
     ]
    }
   ],
   "source": [
    "dataX, dataY = create_dateset(classification_variables, seq_len=seq_len)\n",
    "dt_trainX, dt_valX, dt_testX, dt_trainY, dt_valY, dt_testY = \\\n",
    "    split_dataset(dataX, dataY, 0.6, 0.25)"
   ]
  },
  {
   "cell_type": "markdown",
   "metadata": {},
   "source": [
    "# Create and train Decision Tree model"
   ]
  },
  {
   "cell_type": "code",
   "execution_count": 285,
   "metadata": {},
   "outputs": [
    {
     "data": {
      "text/plain": [
       "DecisionTreeClassifier(class_weight=None, criterion='gini', max_depth=5,\n",
       "            max_features=None, max_leaf_nodes=None,\n",
       "            min_impurity_split=1e-07, min_samples_leaf=1,\n",
       "            min_samples_split=2, min_weight_fraction_leaf=0.0,\n",
       "            presort=False, random_state=None, splitter='best')"
      ]
     },
     "execution_count": 285,
     "metadata": {},
     "output_type": "execute_result"
    },
    {
     "name": "stderr",
     "output_type": "stream",
     "text": [
      "/Library/Frameworks/Python.framework/Versions/2.7/lib/python2.7/site-packages/simplejson/encoder.py:291: DeprecationWarning: Interpreting naive datetime as local 2018-07-31 12:10:13.712143. Please add timezone info to timestamps.\n",
      "  chunks = self.iterencode(o, _one_shot=True)\n"
     ]
    }
   ],
   "source": [
    "dt = tree.DecisionTreeClassifier(max_depth=5)\n",
    "dt.fit(dt_trainX, dt_trainY)"
   ]
  },
  {
   "cell_type": "code",
   "execution_count": 286,
   "metadata": {},
   "outputs": [
    {
     "name": "stderr",
     "output_type": "stream",
     "text": [
      "/Library/Frameworks/Python.framework/Versions/2.7/lib/python2.7/site-packages/simplejson/encoder.py:291: DeprecationWarning: Interpreting naive datetime as local 2018-07-31 12:10:13.738348. Please add timezone info to timestamps.\n",
      "  chunks = self.iterencode(o, _one_shot=True)\n"
     ]
    }
   ],
   "source": [
    "pred_valY = dt.predict(dt_valX)\n",
    "true_valY = dt_valY.reshape((-1))"
   ]
  },
  {
   "cell_type": "code",
   "execution_count": 287,
   "metadata": {},
   "outputs": [
    {
     "name": "stderr",
     "output_type": "stream",
     "text": [
      "/Library/Frameworks/Python.framework/Versions/2.7/lib/python2.7/site-packages/simplejson/encoder.py:291: DeprecationWarning: Interpreting naive datetime as local 2018-07-31 12:10:13.748574. Please add timezone info to timestamps.\n",
      "  chunks = self.iterencode(o, _one_shot=True)\n"
     ]
    }
   ],
   "source": [
    "cm = confusion_matrix(true_valY, pred_valY)\n",
    "cm = np.stack([cm[4,:], cm[1,:], cm[2,:], cm[0,:], cm[3,:]])"
   ]
  },
  {
   "cell_type": "code",
   "execution_count": 288,
   "metadata": {},
   "outputs": [
    {
     "name": "stderr",
     "output_type": "stream",
     "text": [
      "/Library/Frameworks/Python.framework/Versions/2.7/lib/python2.7/site-packages/simplejson/encoder.py:291: DeprecationWarning: Interpreting naive datetime as local 2018-07-31 12:10:13.761202. Please add timezone info to timestamps.\n",
      "  chunks = self.iterencode(o, _one_shot=True)\n"
     ]
    }
   ],
   "source": [
    "classes = ['very low','low','moderate','high','very high']"
   ]
  },
  {
   "cell_type": "code",
   "execution_count": 289,
   "metadata": {},
   "outputs": [
    {
     "name": "stderr",
     "output_type": "stream",
     "text": [
      "/Library/Frameworks/Python.framework/Versions/2.7/lib/python2.7/site-packages/simplejson/encoder.py:291: DeprecationWarning: Interpreting naive datetime as local 2018-07-31 12:10:13.772309. Please add timezone info to timestamps.\n",
      "  chunks = self.iterencode(o, _one_shot=True)\n"
     ]
    }
   ],
   "source": [
    "def plot_confusion_matrix(cm, classes,\n",
    "                          normalize=False,\n",
    "                          title='Confusion matrix',\n",
    "                          cmap=plt.cm.Blues):\n",
    "    \"\"\"\n",
    "    This function prints and plots the confusion matrix.\n",
    "    Normalization can be applied by setting `normalize=True`.\n",
    "    \"\"\"\n",
    "    if normalize:\n",
    "        cm = cm.astype('float') / cm.sum(axis=1)[:, np.newaxis]\n",
    "        print(\"Normalized confusion matrix\")\n",
    "    else:\n",
    "        print('Confusion matrix, without normalization')\n",
    "\n",
    "    print(cm)\n",
    "\n",
    "    plt.imshow(cm, interpolation='nearest', cmap=cmap)\n",
    "    plt.title(title)\n",
    "    plt.colorbar()\n",
    "    tick_marks = np.arange(len(classes))\n",
    "    plt.xticks(tick_marks, classes, rotation=45)\n",
    "    plt.yticks(tick_marks, classes)\n",
    "\n",
    "    fmt = '.2f' if normalize else 'd'\n",
    "    thresh = cm.max() / 2.\n",
    "    for i, j in itertools.product(range(cm.shape[0]), range(cm.shape[1])):\n",
    "        plt.text(j, i, format(cm[i, j], fmt),\n",
    "                 horizontalalignment=\"center\",\n",
    "                 color=\"white\" if cm[i, j] > thresh else \"black\")\n",
    "\n",
    "    plt.tight_layout()\n",
    "    plt.ylabel('True label')\n",
    "    plt.xlabel('Predicted label')\n",
    "    plt.show()\n",
    "\n",
    "def accuracy(cm):\n",
    "    num_classes = len(cm)\n",
    "    tp = 0\n",
    "    for i in range(num_classes):\n",
    "        tp += cm[i][i]\n",
    "    return float(tp) / np.sum(cm)"
   ]
  },
  {
   "cell_type": "code",
   "execution_count": 290,
   "metadata": {},
   "outputs": [
    {
     "name": "stdout",
     "output_type": "stream",
     "text": [
      "Confusion matrix, without normalization\n",
      "[[ 0 14 10 11  8]\n",
      " [ 0 17  5 15  3]\n",
      " [ 0 14  6  8  2]\n",
      " [ 1  4  2  4  2]\n",
      " [ 0  8  6 10  6]]\n"
     ]
    },
    {
     "data": {
      "image/png": "[encoded data removed]",
      "text/plain": [
       "<matplotlib.figure.Figure at 0x11ef00550>"
      ]
     },
     "metadata": {},
     "output_type": "display_data"
    },
    {
     "name": "stderr",
     "output_type": "stream",
     "text": [
      "/Library/Frameworks/Python.framework/Versions/2.7/lib/python2.7/site-packages/simplejson/encoder.py:291: DeprecationWarning: Interpreting naive datetime as local 2018-07-31 12:10:13.824434. Please add timezone info to timestamps.\n",
      "  chunks = self.iterencode(o, _one_shot=True)\n"
     ]
    }
   ],
   "source": [
    "plot_confusion_matrix(cm, classes=classes)"
   ]
  },
  {
   "cell_type": "code",
   "execution_count": 291,
   "metadata": {},
   "outputs": [
    {
     "data": {
      "text/plain": [
       "0.21153846153846154"
      ]
     },
     "execution_count": 291,
     "metadata": {},
     "output_type": "execute_result"
    },
    {
     "name": "stderr",
     "output_type": "stream",
     "text": [
      "/Library/Frameworks/Python.framework/Versions/2.7/lib/python2.7/site-packages/simplejson/encoder.py:291: DeprecationWarning: Interpreting naive datetime as local 2018-07-31 12:10:14.291323. Please add timezone info to timestamps.\n",
      "  chunks = self.iterencode(o, _one_shot=True)\n"
     ]
    }
   ],
   "source": [
    "accuracy(cm)"
   ]
  },
  {
   "cell_type": "code",
   "execution_count": 292,
   "metadata": {},
   "outputs": [
    {
     "name": "stderr",
     "output_type": "stream",
     "text": [
      "/Library/Frameworks/Python.framework/Versions/2.7/lib/python2.7/site-packages/simplejson/encoder.py:291: DeprecationWarning: Interpreting naive datetime as local 2018-07-31 12:10:14.304331. Please add timezone info to timestamps.\n",
      "  chunks = self.iterencode(o, _one_shot=True)\n"
     ]
    }
   ],
   "source": [
    "import graphviz"
   ]
  },
  {
   "cell_type": "code",
   "execution_count": 293,
   "metadata": {},
   "outputs": [
    {
     "name": "stderr",
     "output_type": "stream",
     "text": [
      "/Library/Frameworks/Python.framework/Versions/2.7/lib/python2.7/site-packages/simplejson/encoder.py:291: DeprecationWarning: Interpreting naive datetime as local 2018-07-31 12:10:14.314604. Please add timezone info to timestamps.\n",
      "  chunks = self.iterencode(o, _one_shot=True)\n"
     ]
    }
   ],
   "source": [
    "dot_data = tree.export_graphviz(dt, out_file='tree.dot') \n",
    "\n",
    "with open(\"tree.dot\") as f:\n",
    "    dot_graph = f.read()"
   ]
  },
  {
   "cell_type": "markdown",
   "metadata": {},
   "source": [
    "# 2) SVM"
   ]
  },
  {
   "cell_type": "markdown",
   "metadata": {},
   "source": [
    "# Import additional packages "
   ]
  },
  {
   "cell_type": "code",
   "execution_count": 294,
   "metadata": {},
   "outputs": [
    {
     "name": "stderr",
     "output_type": "stream",
     "text": [
      "/Library/Frameworks/Python.framework/Versions/2.7/lib/python2.7/site-packages/simplejson/encoder.py:291: DeprecationWarning: Interpreting naive datetime as local 2018-07-31 12:10:14.333557. Please add timezone info to timestamps.\n",
      "  chunks = self.iterencode(o, _one_shot=True)\n"
     ]
    }
   ],
   "source": [
    "from sklearn.svm import SVC\n",
    "from sklearn.metrics import confusion_matrix"
   ]
  },
  {
   "cell_type": "markdown",
   "metadata": {},
   "source": [
    "# Determin which features are used"
   ]
  },
  {
   "cell_type": "code",
   "execution_count": 295,
   "metadata": {},
   "outputs": [
    {
     "name": "stdout",
     "output_type": "stream",
     "text": [
      "[u'KOSPI', u'KOSDAQ', u'Precipitation', u'Average_Wind_Speed', u'Average_Relative_humidity', u'Daylight_Hours', u'Cloud_Cover', u'Duration_of_Fog', u'Fitness', u'Sports_Center', u'Gym', u'Diet', u'Body', u'Busan_Sports_Center', u'Busan_Gym', 'Average_Temperature_Normalized', 'Revenue_Normalized']\n"
     ]
    },
    {
     "name": "stderr",
     "output_type": "stream",
     "text": [
      "/Library/Frameworks/Python.framework/Versions/2.7/lib/python2.7/site-packages/simplejson/encoder.py:291: DeprecationWarning: Interpreting naive datetime as local 2018-07-31 12:10:14.343863. Please add timezone info to timestamps.\n",
      "  chunks = self.iterencode(o, _one_shot=True)\n"
     ]
    }
   ],
   "source": [
    "# Hyperparameters for Linear model. Tune these variables.\n",
    "classification_variables = df_scaled.columns.tolist()\n",
    "variables_to_remove = ['Date', 'Rate_Class', 'Revenue', 'Season', 'Average_Temperature', 'Lowest_Temperature', 'Highest_temperature']\n",
    "\n",
    "for variable in variables_to_remove:\n",
    "    classification_variables.remove(variable)\n",
    "print(classification_variables)"
   ]
  },
  {
   "cell_type": "markdown",
   "metadata": {},
   "source": [
    "# Assign hyperparameters "
   ]
  },
  {
   "cell_type": "code",
   "execution_count": 296,
   "metadata": {},
   "outputs": [
    {
     "name": "stderr",
     "output_type": "stream",
     "text": [
      "/Library/Frameworks/Python.framework/Versions/2.7/lib/python2.7/site-packages/simplejson/encoder.py:291: DeprecationWarning: Interpreting naive datetime as local 2018-07-31 12:10:14.358987. Please add timezone info to timestamps.\n",
      "  chunks = self.iterencode(o, _one_shot=True)\n"
     ]
    }
   ],
   "source": [
    "# Hyperparameters for Decision Tree model. Tune these variables.\n"
   ]
  },
  {
   "cell_type": "markdown",
   "metadata": {},
   "source": [
    "# Create dataset"
   ]
  },
  {
   "cell_type": "code",
   "execution_count": 297,
   "metadata": {},
   "outputs": [
    {
     "name": "stderr",
     "output_type": "stream",
     "text": [
      "/Library/Frameworks/Python.framework/Versions/2.7/lib/python2.7/site-packages/simplejson/encoder.py:291: DeprecationWarning: Interpreting naive datetime as local 2018-07-31 12:10:14.370560. Please add timezone info to timestamps.\n",
      "  chunks = self.iterencode(o, _one_shot=True)\n"
     ]
    }
   ],
   "source": [
    "# define a function to create dataset\n",
    "def create_dateset(variables, seq_len):\n",
    "    dataX = []\n",
    "    dataY = []\n",
    "    for i in range(df_scaled.shape[0] - seq_len):\n",
    "        _x = df_scaled.loc[i:i+seq_len-1, classification_variables].values\n",
    "        _y = [df_scaled.loc[i+seq_len, 'Rate_Class']]\n",
    "        dataX.append(_x)\n",
    "        dataY.append(_y)\n",
    "    return dataX, dataY"
   ]
  },
  {
   "cell_type": "markdown",
   "metadata": {},
   "source": [
    "# Create train, validation and test set"
   ]
  },
  {
   "cell_type": "code",
   "execution_count": 298,
   "metadata": {},
   "outputs": [
    {
     "name": "stderr",
     "output_type": "stream",
     "text": [
      "/Library/Frameworks/Python.framework/Versions/2.7/lib/python2.7/site-packages/simplejson/encoder.py:291: DeprecationWarning: Interpreting naive datetime as local 2018-07-31 12:10:14.389855. Please add timezone info to timestamps.\n",
      "  chunks = self.iterencode(o, _one_shot=True)\n"
     ]
    }
   ],
   "source": [
    "def split_dataset(dataX, dataY, train_data_rate, val_data_rate, model=None):\n",
    "    train_size = int(len(dataY)*train_data_rate)\n",
    "    val_size = int(len(dataY)*val_data_rate)\n",
    "    test_size = len(dataY) - train_size - val_size\n",
    "\n",
    "\n",
    "    trainX, valX, testX = np.array(dataX[:train_size]).reshape((train_size, -1)),\\\n",
    "                                    np.array(dataX[train_size:train_size+val_size]).reshape((val_size, -1)),\\\n",
    "                                    np.array(dataX[train_size+val_size:len(dataX)]).reshape((test_size, -1))\n",
    "    trainY, valY, testY = np.array(dataY[:train_size]).reshape((train_size, -1)),\\\n",
    "                                    np.array(dataY[train_size:train_size+val_size]).reshape((val_size, -1)),\\\n",
    "                                    np.array(dataY[train_size+val_size:len(dataY)]).reshape((test_size, -1))\n",
    "    return (trainX, valX, testX, trainY, valY, testY)"
   ]
  },
  {
   "cell_type": "code",
   "execution_count": 299,
   "metadata": {},
   "outputs": [
    {
     "name": "stderr",
     "output_type": "stream",
     "text": [
      "/Library/Frameworks/Python.framework/Versions/2.7/lib/python2.7/site-packages/simplejson/encoder.py:291: DeprecationWarning: Interpreting naive datetime as local 2018-07-31 12:10:14.410284. Please add timezone info to timestamps.\n",
      "  chunks = self.iterencode(o, _one_shot=True)\n"
     ]
    }
   ],
   "source": [
    "dataX, dataY = create_dateset(classification_variables, seq_len=seq_len)\n",
    "svm_trainX, svm_valX, svm_testX, svm_trainY, svm_valY, svm_testY = \\\n",
    "    split_dataset(dataX, dataY, 0.6, 0.25)"
   ]
  },
  {
   "cell_type": "code",
   "execution_count": 300,
   "metadata": {},
   "outputs": [
    {
     "data": {
      "text/plain": [
       "SVC(C=1.0, cache_size=200, class_weight=None, coef0=0.0,\n",
       "  decision_function_shape=None, degree=3, gamma='auto', kernel='rbf',\n",
       "  max_iter=-1, probability=False, random_state=None, shrinking=True,\n",
       "  tol=0.001, verbose=False)"
      ]
     },
     "execution_count": 300,
     "metadata": {},
     "output_type": "execute_result"
    },
    {
     "name": "stderr",
     "output_type": "stream",
     "text": [
      "/Library/Frameworks/Python.framework/Versions/2.7/lib/python2.7/site-packages/simplejson/encoder.py:291: DeprecationWarning: Interpreting naive datetime as local 2018-07-31 12:10:15.407451. Please add timezone info to timestamps.\n",
      "  chunks = self.iterencode(o, _one_shot=True)\n"
     ]
    }
   ],
   "source": [
    "svm = SVC()\n",
    "svm.fit(dt_trainX, dt_trainY)"
   ]
  },
  {
   "cell_type": "code",
   "execution_count": 301,
   "metadata": {},
   "outputs": [
    {
     "name": "stderr",
     "output_type": "stream",
     "text": [
      "/Library/Frameworks/Python.framework/Versions/2.7/lib/python2.7/site-packages/simplejson/encoder.py:291: DeprecationWarning: Interpreting naive datetime as local 2018-07-31 12:10:15.452889. Please add timezone info to timestamps.\n",
      "  chunks = self.iterencode(o, _one_shot=True)\n"
     ]
    }
   ],
   "source": [
    "pred_valY = svm.predict(svm_valX)\n",
    "true_valY = svm_valY.reshape((-1))"
   ]
  },
  {
   "cell_type": "code",
   "execution_count": 302,
   "metadata": {},
   "outputs": [
    {
     "name": "stderr",
     "output_type": "stream",
     "text": [
      "/Library/Frameworks/Python.framework/Versions/2.7/lib/python2.7/site-packages/simplejson/encoder.py:291: DeprecationWarning: Interpreting naive datetime as local 2018-07-31 12:10:15.473282. Please add timezone info to timestamps.\n",
      "  chunks = self.iterencode(o, _one_shot=True)\n"
     ]
    }
   ],
   "source": [
    "cm = confusion_matrix(true_valY, pred_valY)\n",
    "cm = np.stack([cm[4,:], cm[1,:], cm[2,:], cm[0,:], cm[3,:]])"
   ]
  },
  {
   "cell_type": "code",
   "execution_count": 303,
   "metadata": {},
   "outputs": [
    {
     "name": "stderr",
     "output_type": "stream",
     "text": [
      "/Library/Frameworks/Python.framework/Versions/2.7/lib/python2.7/site-packages/simplejson/encoder.py:291: DeprecationWarning: Interpreting naive datetime as local 2018-07-31 12:10:15.489152. Please add timezone info to timestamps.\n",
      "  chunks = self.iterencode(o, _one_shot=True)\n"
     ]
    }
   ],
   "source": [
    "classes = ['very low','low','moderate','high','very high']"
   ]
  },
  {
   "cell_type": "code",
   "execution_count": 304,
   "metadata": {},
   "outputs": [
    {
     "name": "stdout",
     "output_type": "stream",
     "text": [
      "Confusion matrix, without normalization\n",
      "[[ 0 14  2  6 21]\n",
      " [ 0 12  6 14  8]\n",
      " [ 0 13  2  6  9]\n",
      " [ 0  6  1  2  4]\n",
      " [ 0  9  3  7 11]]\n"
     ]
    },
    {
     "data": {
      "image/png": "[encoded data removed]",
      "text/plain": [
       "<matplotlib.figure.Figure at 0x120110150>"
      ]
     },
     "metadata": {},
     "output_type": "display_data"
    },
    {
     "name": "stderr",
     "output_type": "stream",
     "text": [
      "/Library/Frameworks/Python.framework/Versions/2.7/lib/python2.7/site-packages/simplejson/encoder.py:291: DeprecationWarning: Interpreting naive datetime as local 2018-07-31 12:10:15.499132. Please add timezone info to timestamps.\n",
      "  chunks = self.iterencode(o, _one_shot=True)\n"
     ]
    }
   ],
   "source": [
    "plot_confusion_matrix(cm, classes=classes)"
   ]
  },
  {
   "cell_type": "code",
   "execution_count": 305,
   "metadata": {},
   "outputs": [
    {
     "data": {
      "text/plain": [
       "0.17307692307692307"
      ]
     },
     "execution_count": 305,
     "metadata": {},
     "output_type": "execute_result"
    },
    {
     "name": "stderr",
     "output_type": "stream",
     "text": [
      "/Library/Frameworks/Python.framework/Versions/2.7/lib/python2.7/site-packages/simplejson/encoder.py:291: DeprecationWarning: Interpreting naive datetime as local 2018-07-31 12:10:15.940873. Please add timezone info to timestamps.\n",
      "  chunks = self.iterencode(o, _one_shot=True)\n"
     ]
    }
   ],
   "source": [
    "accuracy(cm)"
   ]
  }
 ],
 "metadata": {
  "kernelspec": {
   "display_name": "Python 2",
   "language": "python",
   "name": "python2"
  },
  "language_info": {
   "codemirror_mode": {
    "name": "ipython",
    "version": 2
   },
   "file_extension": ".py",
   "mimetype": "text/x-python",
   "name": "python",
   "nbconvert_exporter": "python",
   "pygments_lexer": "ipython2",
   "version": "2.7.13"
  }
 },
 "nbformat": 4,
 "nbformat_minor": 2
}
